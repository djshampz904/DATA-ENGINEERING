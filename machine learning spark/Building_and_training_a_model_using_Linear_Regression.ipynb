{
 "cells": [
  {
   "cell_type": "markdown",
   "id": "2c8da368-8241-4438-800c-471924d93542",
   "metadata": {},
   "source": [
    "<p style=\"text-align:center\">\n",
    "    <a href=\"https://skills.network\" target=\"_blank\">\n",
    "    <img src=\"https://cf-courses-data.s3.us.cloud-object-storage.appdomain.cloud/assets/logos/SN_web_lightmode.png\" width=\"200\" alt=\"Skills Network Logo\">\n",
    "    </a>\n",
    "</p>\n"
   ]
  },
  {
   "cell_type": "markdown",
   "id": "6972db1a-b04e-4903-971e-5099fe81f979",
   "metadata": {},
   "source": [
    "## Predictions: Regression for Car Mileage and Diamond Price\n"
   ]
  },
  {
   "cell_type": "code",
   "execution_count": null,
   "metadata": {},
   "outputs": [],
   "source": []
  },
  {
   "cell_type": "markdown",
   "id": "6385c35a-4edc-42c4-9dba-8dffa18a8cf0",
   "metadata": {},
   "source": [
    "<img src=\"https://cf-courses-data.s3.us.cloud-object-storage.appdomain.cloud/IBM-BD0231EN-SkillsNetwork/CarsnDiamonds.png\" width=\"50%\">\n"
   ]
  },
  {
   "cell_type": "markdown",
   "id": "06222607-2ac1-4d73-a6ea-ecc409107205",
   "metadata": {},
   "source": [
    "Estimated time needed: **30** minutes\n"
   ]
  },
  {
   "cell_type": "markdown",
   "id": "fe49fc3f-46c3-42a1-9391-3551b26f9868",
   "metadata": {},
   "source": [
    "<p style='color: red'>The purpose of this lab is to show you how to use a car data set to train a regression model that will predict the mileage of a car.</p>\n"
   ]
  },
  {
   "cell_type": "markdown",
   "id": "6cbc812c-688b-49a3-b0cb-1000e219a28e",
   "metadata": {},
   "source": [
    "## __Table of Contents__\n",
    "\n",
    "<ol>\n",
    "    <li><a href=\"#Objectives\">Objectives</a></li>\n",
    "    <li><a href=\"#Datasets\">Datasets</a></li>\n",
    "    <li>\n",
    "        <a href=\"#Setup\">Setup</a>\n",
    "        <ol>\n",
    "            <li><a href=\"#Installing-Required-Libraries\">Installing Required Libraries</a></li>\n",
    "            <li><a href=\"#Importing-Required-Libraries\">Importing Required Libraries</a></li>\n",
    "        </ol>\n",
    "    </li>\n",
    "    <li>\n",
    "        <a href=\"#Examples\">Examples</a>\n",
    "        <ol>\n",
    "            <li><a href=\"#Task-1---Load-the-data-in-a-csv-file-into-a-dataframe\">Task 1 - Load the data in a csv file into a dataframe</a></li>\n",
    "    <li><a href=\"#Task-2---Identify-the-target-column-and-the-data-columns\">Task 2 - Identify the target column and the data columns</a></li>\n",
    "    <li><a href=\"#Task-3---Build-and-Train-a-Linear-Regression-Model\">Task 3 - Build and Train a Linear Regression Model</a></li>\n",
    "    <li><a href=\"#Task-4---Evaluate-the-model-and-make-predictions\">Task 4 - Evaluate the model and make predictions</a></li>        </ol>\n",
    "    </li>\n",
    "    \n",
    "\n",
    "\n",
    "<li><a href=\"#Exercises\">Exercises</a></li>\n",
    "<ol>\n",
    "    <li><a href=\"#Exercise-1---Loading-a-dataset-(diamond-dataset)\">Exercise 1 - Loading a dataset (diamond dataset)</a></li>\n",
    "    <li><a href=\"#Exercise-2---Identify-the-target-column-and-the-data-columns\">Exercise 2 - Identify the target column and the data columns</a></li>\n",
    "    <li><a href=\"#Exercise-3---Build-and-Train-a-new-Linear-Regression-Model\">Exercise 3 - Build and Train a new Linear Regression Model</a></li>\n",
    "    <li><a href=\"#Exercise-4---Evaluate-the-model\">Exercise 4 - Evaluate the model</a></li>\n",
    "    <li><a href=\"#Exercise-5---Predict-the-price-of-a-diamond\">Exercise 5 - Predict the price of a diamond</a></li>\n",
    "    </ol>\n",
    "</ol>\n",
    "\n",
    "\n"
   ]
  },
  {
   "cell_type": "markdown",
   "id": "0ba4bca7-5179-4e2c-b115-ca16b5baf5f4",
   "metadata": {},
   "source": [
    "## Objectives\n",
    "\n",
    "After completing this lab you will be able to:\n",
    "\n",
    " - Use Pandas to load data sets.\n",
    " - Identify the target and features.\n",
    " - Use Linear Regression to build a model to predict car mileage.\n",
    " - Use metrics to evaluate the model.\n",
    " - Make predictions using a trained model.\n"
   ]
  },
  {
   "cell_type": "markdown",
   "id": "3749f87b-7c36-4c6f-82fe-f6ad8a042430",
   "metadata": {},
   "source": [
    "## Datasets\n",
    "\n",
    "In this lab you will be using dataset(s):\n",
    "\n",
    " - Modified version of car mileage dataset. Available at https://archive.ics.uci.edu/ml/datasets/auto+mpg \n",
    " - Modified version of diamonds dataset. Available at https://www.openml.org/search?type=data&sort=runs&id=42225&status=active\n",
    " \n"
   ]
  },
  {
   "cell_type": "markdown",
   "id": "cb1c87ff-7ae5-4aec-974f-ff3e152dad0e",
   "metadata": {},
   "source": [
    "----\n"
   ]
  },
  {
   "cell_type": "markdown",
   "id": "1911ba15-09a6-45f8-b895-8ab07d76df32",
   "metadata": {},
   "source": [
    "## Setup\n"
   ]
  },
  {
   "cell_type": "markdown",
   "id": "a2f09b5f-2af8-4efa-96d9-74938c89d8ca",
   "metadata": {},
   "source": [
    "For this lab, we will be using the following libraries:\n",
    "\n",
    "*   [`pandas`](https://pandas.pydata.org/?utm_medium=Exinfluencer&utm_source=Exinfluencer&utm_content=000026UJ&utm_term=10006555&utm_id=NA-SkillsNetwork-Channel-SkillsNetworkCoursesIBMML0187ENSkillsNetwork31430127-2021-01-01) for managing the data.\n",
    "*   [`sklearn`](https://scikit-learn.org/stable/?utm_medium=Exinfluencer&utm_source=Exinfluencer&utm_content=000026UJ&utm_term=10006555&utm_id=NA-SkillsNetwork-Channel-SkillsNetworkCoursesIBMML0187ENSkillsNetwork31430127-2021-01-01) for machine learning and machine-learning-pipeline related functions.\n"
   ]
  },
  {
   "cell_type": "markdown",
   "id": "baf7961f-d668-4ab4-b026-0c77fae73537",
   "metadata": {},
   "source": [
    "### Installing Required Libraries\n",
    "\n",
    "The following required libraries are pre-installed in the Skills Network Labs environment. However, if you run this notebook commands in a different Jupyter environment (e.g. Watson Studio or Ananconda), you will need to install these libraries by removing the `#` sign before `!pip` in the code cell below.\n"
   ]
  },
  {
   "cell_type": "code",
   "execution_count": 1,
   "id": "651e8814-2fd9-4b75-bf6b-5180fa0d6a2f",
   "metadata": {},
   "outputs": [
    {
     "name": "stdout",
     "output_type": "stream",
     "text": [
      "^C\n"
     ]
    }
   ],
   "source": [
    "# All Libraries required for this lab are listed below. The libraries pre-installed on Skills Network Labs are commented.\n",
    "!pip install pandas==1.3.4\n",
    "!pip install scikit-learn==1.0.2\n",
    "!pip install numpy==1.21.6"
   ]
  },
  {
   "cell_type": "code",
   "execution_count": null,
   "id": "b0a39b19-8af5-4bf6-800f-9e831c4b0c99",
   "metadata": {},
   "outputs": [],
   "source": [
    "# You can also use this section to suppress warnings generated by your code:\n",
    "def warn(*args, **kwargs):\n",
    "    pass\n",
    "import warnings\n",
    "warnings.warn = warn\n",
    "warnings.filterwarnings('ignore')"
   ]
  },
  {
   "cell_type": "markdown",
   "id": "9d918cc8-a78c-4c19-94ed-2c35433c72f5",
   "metadata": {},
   "source": [
    "### Importing Required Libraries\n"
   ]
  },
  {
   "cell_type": "code",
   "execution_count": 1,
   "id": "49844fec-1feb-4c52-9f4c-4a671c580818",
   "metadata": {},
   "outputs": [],
   "source": [
    "import pandas as pd\n",
    "from sklearn.linear_model import LinearRegression"
   ]
  },
  {
   "cell_type": "markdown",
   "id": "047d37c5-5bd4-4b9f-86b8-c256bde0294c",
   "metadata": {},
   "source": [
    "## Task 1 - Load the data in a csv file into a dataframe\n"
   ]
  },
  {
   "cell_type": "code",
   "execution_count": 2,
   "id": "874b086e-d6e5-4511-867f-ead87aa5622e",
   "metadata": {},
   "outputs": [],
   "source": [
    "# the data set is available at the url below.\n",
    "URL = \"https://cf-courses-data.s3.us.cloud-object-storage.appdomain.cloud/IBM-BD0231EN-SkillsNetwork/datasets/mpg.csv\"\n",
    "\n",
    "# using the read_csv function in the pandas library, we load the data into a dataframe.\n",
    "\n",
    "df = pd.read_csv(URL)"
   ]
  },
  {
   "cell_type": "markdown",
   "id": "783c4d1d-8b1f-45d4-9fc1-90f84fa90631",
   "metadata": {},
   "source": [
    "Let's look at some sample rows from the dataset we loaded:\n"
   ]
  },
  {
   "cell_type": "code",
   "execution_count": 1,
   "id": "125bb8b1-6fb8-424d-851a-8873f9ed78ab",
   "metadata": {},
   "outputs": [
    {
     "ename": "NameError",
     "evalue": "name 'df' is not defined",
     "output_type": "error",
     "traceback": [
      "\u001b[1;31m---------------------------------------------------------------------------\u001b[0m",
      "\u001b[1;31mNameError\u001b[0m                                 Traceback (most recent call last)",
      "Cell \u001b[1;32mIn[1], line 2\u001b[0m\n\u001b[0;32m      1\u001b[0m \u001b[38;5;66;03m# show 5 random rows from the dataset\u001b[39;00m\n\u001b[1;32m----> 2\u001b[0m \u001b[43mdf\u001b[49m\u001b[38;5;241m.\u001b[39msample(\u001b[38;5;241m5\u001b[39m)\n",
      "\u001b[1;31mNameError\u001b[0m: name 'df' is not defined"
     ]
    }
   ],
   "source": [
    "# show 5 random rows from the dataset\n",
    "df.sample(5)"
   ]
  },
  {
   "cell_type": "markdown",
   "id": "f022a0aa-04df-44f8-b167-956fbb17d1a2",
   "metadata": {},
   "source": [
    "Let's find out the number of rows and columns in the dataset:\n"
   ]
  },
  {
   "cell_type": "code",
   "execution_count": 4,
   "id": "6748a562-7e0d-45ee-9fe5-0612cdcb4569",
   "metadata": {},
   "outputs": [
    {
     "data": {
      "text/plain": [
       "(392, 8)"
      ]
     },
     "execution_count": 4,
     "metadata": {},
     "output_type": "execute_result"
    }
   ],
   "source": [
    "df.shape"
   ]
  },
  {
   "cell_type": "markdown",
   "id": "840eedd8-6a67-463e-b97d-46c37d543de7",
   "metadata": {},
   "source": [
    "Let's create a scatter plot of Horsepower versus mileage(MPG) . This will help us visualize the relationship between them.\n"
   ]
  },
  {
   "cell_type": "code",
   "execution_count": 6,
   "id": "2d2b20a3-de9f-44fe-8cc4-5eb738da2415",
   "metadata": {},
   "outputs": [
    {
     "data": {
      "text/plain": [
       "<Axes: xlabel='Horsepower', ylabel='MPG'>"
      ]
     },
     "execution_count": 6,
     "metadata": {},
     "output_type": "execute_result"
    },
    {
     "data": {
      "image/png": "[encoded data removed]",
      "text/plain": [
       "<Figure size 640x480 with 1 Axes>"
      ]
     },
     "metadata": {},
     "output_type": "display_data"
    }
   ],
   "source": [
    "df.plot.scatter(x = \"Horsepower\", y = \"MPG\")"
   ]
  },
  {
   "cell_type": "code",
   "execution_count": 14,
   "metadata": {},
   "outputs": [
    {
     "data": {
      "text/plain": [
       "<Axes: xlabel='Weight', ylabel='Accelerate'>"
      ]
     },
     "execution_count": 14,
     "metadata": {},
     "output_type": "execute_result"
    },
    {
     "data": {
      "image/png": "[encoded data removed]",
      "text/plain": [
       "<Figure size 640x480 with 1 Axes>"
      ]
     },
     "metadata": {},
     "output_type": "display_data"
    }
   ],
   "source": [
    "df.plot.scatter(x = \"Weight\", y = \"Accelerate\")"
   ]
  },
  {
   "cell_type": "markdown",
   "id": "bb1e77ca-8b27-4bab-8b11-d9779997851e",
   "metadata": {},
   "source": [
    "You are encouraged to create more plots to visualize relationships amongst other columns\n"
   ]
  },
  {
   "cell_type": "markdown",
   "id": "f01db64a-854d-4523-b8e8-27f9704086b7",
   "metadata": {},
   "source": [
    "## Task 2 - Identify the target column and the data columns\n"
   ]
  },
  {
   "cell_type": "markdown",
   "id": "b0c6e9ed-d8af-409a-95a2-bf40310ca947",
   "metadata": {},
   "source": [
    "First we identify the target. Target is the value that our machine learning model needs to predict\n"
   ]
  },
  {
   "cell_type": "code",
   "execution_count": 16,
   "id": "211f6e2b-229a-4587-8814-e165d91c9f82",
   "metadata": {},
   "outputs": [],
   "source": [
    "target = df[\"MPG\"]"
   ]
  },
  {
   "cell_type": "markdown",
   "id": "6495256c-9618-48af-b8f1-6b441f917c64",
   "metadata": {},
   "source": [
    "We identify the features next. Features are the values our machine learning model learns from\n"
   ]
  },
  {
   "cell_type": "code",
   "execution_count": 18,
   "id": "20869b6c-a964-4d99-a409-8481f47a3b17",
   "metadata": {},
   "outputs": [],
   "source": [
    "features = df[[\"Horsepower\",\"Weight\"]]"
   ]
  },
  {
   "cell_type": "markdown",
   "id": "84b71d85-c1b5-4c68-9063-c126f71be4df",
   "metadata": {},
   "source": [
    "## Task 3 - Build and Train a Linear Regression Model\n"
   ]
  },
  {
   "cell_type": "markdown",
   "id": "f54b2617-5e6d-449e-a708-386997d612a9",
   "metadata": {},
   "source": [
    "Create a LR model\n"
   ]
  },
  {
   "cell_type": "code",
   "execution_count": 19,
   "id": "9f457766-d937-43d8-bd66-3c468ef5714e",
   "metadata": {},
   "outputs": [],
   "source": [
    "lr = LinearRegression()"
   ]
  },
  {
   "cell_type": "markdown",
   "id": "0a546e2e-8351-4dfa-b2e5-37016b1000de",
   "metadata": {},
   "source": [
    "Train/Fit the model\n"
   ]
  },
  {
   "cell_type": "code",
   "execution_count": 20,
   "id": "8026aa30-3c0b-4371-98c9-9648dadeb7a8",
   "metadata": {},
   "outputs": [
    {
     "data": {
      "text/plain": [
       "LinearRegression()"
      ]
     },
     "execution_count": 20,
     "metadata": {},
     "output_type": "execute_result"
    }
   ],
   "source": [
    "lr.fit(features,target)"
   ]
  },
  {
   "cell_type": "markdown",
   "id": "69cef663-4c79-48c9-bca5-4132617e0951",
   "metadata": {},
   "source": [
    "## Task 4 - Evaluate the model and make predictions\n"
   ]
  },
  {
   "cell_type": "markdown",
   "id": "dfa6eec3-ce80-4e27-af98-dd973bccfe4d",
   "metadata": {},
   "source": [
    "Your model is now trained. Time to evaluate the model.\n"
   ]
  },
  {
   "cell_type": "code",
   "execution_count": 21,
   "id": "6e3a8f0d-5eb0-4780-a6ab-411788a7e147",
   "metadata": {},
   "outputs": [
    {
     "data": {
      "text/plain": [
       "0.7063752737298348"
      ]
     },
     "execution_count": 21,
     "metadata": {},
     "output_type": "execute_result"
    }
   ],
   "source": [
    "#Higher the score, better the model.\n",
    "lr.score(features,target)"
   ]
  },
  {
   "cell_type": "markdown",
   "id": "1e236c8f-3c22-4995-8377-85d5d219b15d",
   "metadata": {},
   "source": [
    "Make predictions. Let us predict the mileage for a car with HorsePower = 100 and Weight = 2000\n"
   ]
  },
  {
   "cell_type": "code",
   "execution_count": 23,
   "id": "8232254e-b2e6-4fca-ab53-201b2b67f249",
   "metadata": {},
   "outputs": [
    {
     "name": "stderr",
     "output_type": "stream",
     "text": [
      "C:\\Users\\shvmpz\\anaconda3V2\\envs\\myenv\\lib\\site-packages\\sklearn\\base.py:450: UserWarning: X does not have valid feature names, but LinearRegression was fitted with feature names\n",
      "  warnings.warn(\n"
     ]
    },
    {
     "data": {
      "text/plain": [
       "array([28.40453905])"
      ]
     },
     "execution_count": 23,
     "metadata": {},
     "output_type": "execute_result"
    }
   ],
   "source": [
    "lr.predict([[181,1497]])"
   ]
  },
  {
   "cell_type": "code",
   "execution_count": null,
   "id": "2816d9f3-17bb-4590-aa6f-8ff35ef6ef93",
   "metadata": {},
   "outputs": [],
   "source": [
    "# 29.3216098 miles per gallon is the mileage of a car with HorsePower = 100 and Weight = 2000"
   ]
  },
  {
   "cell_type": "markdown",
   "id": "6a467257-513c-4a26-bb7c-f59d32b7b366",
   "metadata": {},
   "source": [
    "# Exercises\n"
   ]
  },
  {
   "cell_type": "code",
   "execution_count": 25,
   "id": "24635220-bc45-4bdf-9e91-09a6f30c032f",
   "metadata": {},
   "outputs": [],
   "source": [
    "URL2 = \"https://cf-courses-data.s3.us.cloud-object-storage.appdomain.cloud/IBM-BD0231EN-SkillsNetwork/datasets/diamonds.csv\""
   ]
  },
  {
   "cell_type": "markdown",
   "id": "4e8a5cda-8309-44ff-9254-69f9f02c656b",
   "metadata": {},
   "source": [
    "### Exercise 1 - Loading a dataset (diamond dataset)\n"
   ]
  },
  {
   "cell_type": "code",
   "execution_count": 26,
   "id": "a2bf04aa-c884-46c9-87d0-6777e3fc50a2",
   "metadata": {},
   "outputs": [],
   "source": [
    "df2 = pd.read_csv(URL2)"
   ]
  },
  {
   "cell_type": "markdown",
   "id": "0f80589c-d43e-41a0-9c76-7ec7fffb7963",
   "metadata": {},
   "source": [
    "<details>\n",
    "    <summary>Click here for a Hint</summary>\n",
    "    \n",
    "Use the read_csv function\n",
    "\n",
    "</details>\n"
   ]
  },
  {
   "cell_type": "markdown",
   "id": "8df0110c-ab27-426b-9007-b03d95128e95",
   "metadata": {},
   "source": [
    "<details>\n",
    "    <summary>Click here for Solution</summary>\n",
    "\n",
    "```python\n",
    "df2 = pd.read_csv(URL2)\n",
    "```\n",
    "\n",
    "</details>\n"
   ]
  },
  {
   "cell_type": "markdown",
   "id": "8bd949a6-a4a8-4b79-bf04-3401c99545ac",
   "metadata": {},
   "source": [
    "### Exercise 2 - Identify the target column and the data columns\n"
   ]
  },
  {
   "cell_type": "markdown",
   "id": "be908d4e-b35f-4d4d-bc5a-db8e822a91db",
   "metadata": {},
   "source": [
    " - use the price column as target\n",
    " - use the columns carat and depth as features\n"
   ]
  },
  {
   "cell_type": "code",
   "execution_count": 28,
   "metadata": {},
   "outputs": [
    {
     "data": {
      "text/html": [
       "<div>\n",
       "<style scoped>\n",
       "    .dataframe tbody tr th:only-of-type {\n",
       "        vertical-align: middle;\n",
       "    }\n",
       "\n",
       "    .dataframe tbody tr th {\n",
       "        vertical-align: top;\n",
       "    }\n",
       "\n",
       "    .dataframe thead th {\n",
       "        text-align: right;\n",
       "    }\n",
       "</style>\n",
       "<table border=\"1\" class=\"dataframe\">\n",
       "  <thead>\n",
       "    <tr style=\"text-align: right;\">\n",
       "      <th></th>\n",
       "      <th>s</th>\n",
       "      <th>carat</th>\n",
       "      <th>cut</th>\n",
       "      <th>color</th>\n",
       "      <th>clarity</th>\n",
       "      <th>depth</th>\n",
       "      <th>table</th>\n",
       "      <th>price</th>\n",
       "      <th>x</th>\n",
       "      <th>y</th>\n",
       "      <th>z</th>\n",
       "    </tr>\n",
       "  </thead>\n",
       "  <tbody>\n",
       "    <tr>\n",
       "      <th>23554</th>\n",
       "      <td>23555</td>\n",
       "      <td>1.51</td>\n",
       "      <td>Very Good</td>\n",
       "      <td>E</td>\n",
       "      <td>SI1</td>\n",
       "      <td>63.1</td>\n",
       "      <td>58.0</td>\n",
       "      <td>11565</td>\n",
       "      <td>7.28</td>\n",
       "      <td>7.23</td>\n",
       "      <td>4.58</td>\n",
       "    </tr>\n",
       "  </tbody>\n",
       "</table>\n",
       "</div>"
      ],
      "text/plain": [
       "           s  carat        cut color clarity  depth  table  price     x     y  \\\n",
       "23554  23555   1.51  Very Good     E     SI1   63.1   58.0  11565  7.28  7.23   \n",
       "\n",
       "          z  \n",
       "23554  4.58  "
      ]
     },
     "execution_count": 28,
     "metadata": {},
     "output_type": "execute_result"
    }
   ],
   "source": [
    "df2.sample()"
   ]
  },
  {
   "cell_type": "code",
   "execution_count": 29,
   "id": "53794403-8968-4a3f-9917-c98e790a502e",
   "metadata": {},
   "outputs": [],
   "source": [
    "target = df2[\"price\"]\n",
    "features = df2[[\"carat\", \"depth\"]]"
   ]
  },
  {
   "cell_type": "code",
   "execution_count": 34,
   "metadata": {},
   "outputs": [
    {
     "data": {
      "text/html": [
       "<div>\n",
       "<style scoped>\n",
       "    .dataframe tbody tr th:only-of-type {\n",
       "        vertical-align: middle;\n",
       "    }\n",
       "\n",
       "    .dataframe tbody tr th {\n",
       "        vertical-align: top;\n",
       "    }\n",
       "\n",
       "    .dataframe thead th {\n",
       "        text-align: right;\n",
       "    }\n",
       "</style>\n",
       "<table border=\"1\" class=\"dataframe\">\n",
       "  <thead>\n",
       "    <tr style=\"text-align: right;\">\n",
       "      <th></th>\n",
       "      <th>carat</th>\n",
       "      <th>depth</th>\n",
       "    </tr>\n",
       "  </thead>\n",
       "  <tbody>\n",
       "    <tr>\n",
       "      <th>0</th>\n",
       "      <td>0.23</td>\n",
       "      <td>61.5</td>\n",
       "    </tr>\n",
       "    <tr>\n",
       "      <th>1</th>\n",
       "      <td>0.21</td>\n",
       "      <td>59.8</td>\n",
       "    </tr>\n",
       "    <tr>\n",
       "      <th>2</th>\n",
       "      <td>0.23</td>\n",
       "      <td>56.9</td>\n",
       "    </tr>\n",
       "    <tr>\n",
       "      <th>3</th>\n",
       "      <td>0.29</td>\n",
       "      <td>62.4</td>\n",
       "    </tr>\n",
       "    <tr>\n",
       "      <th>4</th>\n",
       "      <td>0.31</td>\n",
       "      <td>63.3</td>\n",
       "    </tr>\n",
       "  </tbody>\n",
       "</table>\n",
       "</div>"
      ],
      "text/plain": [
       "   carat  depth\n",
       "0   0.23   61.5\n",
       "1   0.21   59.8\n",
       "2   0.23   56.9\n",
       "3   0.29   62.4\n",
       "4   0.31   63.3"
      ]
     },
     "execution_count": 34,
     "metadata": {},
     "output_type": "execute_result"
    }
   ],
   "source": [
    "features.head()"
   ]
  },
  {
   "cell_type": "markdown",
   "id": "e245859a-5955-42c6-b89f-b2c446cfa224",
   "metadata": {},
   "source": [
    "<details>\n",
    "    <summary>Click here for a Hint</summary>\n",
    "    \n",
    "Refer to Task2\n",
    "</details>\n"
   ]
  },
  {
   "cell_type": "markdown",
   "id": "ba8a7020-d44e-43b4-a1f9-2b3be759f04d",
   "metadata": {},
   "source": [
    "<details>\n",
    "    <summary>Click here for Solution</summary>\n",
    "\n",
    "```python\n",
    "target = df2[\"price\"]\n",
    "features = df2[[\"carat\",\"depth\"]]\n",
    "```\n",
    "\n",
    "</details>\n"
   ]
  },
  {
   "cell_type": "markdown",
   "id": "c6ab104c-fbc3-438d-8fe3-494f4530b55c",
   "metadata": {},
   "source": [
    "### Exercise 3 - Build and Train a new Linear Regression Model\n"
   ]
  },
  {
   "cell_type": "markdown",
   "id": "ab9c724b-67c3-48ba-bdc8-639956d7a391",
   "metadata": {},
   "source": [
    "Create a new Linear Regression Model\n"
   ]
  },
  {
   "cell_type": "code",
   "execution_count": 35,
   "id": "01eadf74-264d-4263-94dc-883bb7a4c206",
   "metadata": {},
   "outputs": [
    {
     "data": {
      "text/plain": [
       "LinearRegression()"
      ]
     },
     "execution_count": 35,
     "metadata": {},
     "output_type": "execute_result"
    }
   ],
   "source": [
    "lr2 = LinearRegression()\n",
    "lr2.fit(features, target)"
   ]
  },
  {
   "cell_type": "markdown",
   "id": "dd362e86-300c-4f44-b17f-594e3ed24029",
   "metadata": {},
   "source": [
    "<details>\n",
    "    <summary>Click here for a Hint</summary>\n",
    "    \n",
    "fit using the features and target\n",
    "</details>\n"
   ]
  },
  {
   "cell_type": "markdown",
   "id": "cbe53155-2cb6-48b2-8ef8-3d8afcf9442c",
   "metadata": {},
   "source": [
    "<details>\n",
    "    <summary>Click here for Solution</summary>\n",
    "\n",
    "```python\n",
    "lr2 = LinearRegression()\n",
    "lr2.fit(features,target)\n",
    "\n",
    "```\n",
    "\n",
    "</details>\n"
   ]
  },
  {
   "cell_type": "markdown",
   "id": "fadf6d14-f32b-44bb-b3a0-3b8895ac4512",
   "metadata": {},
   "source": [
    "### Exercise 4 - Evaluate the model\n"
   ]
  },
  {
   "cell_type": "markdown",
   "id": "d5e1e856-1255-45f1-ad10-a11297536601",
   "metadata": {},
   "source": [
    "Print the score of the model\n"
   ]
  },
  {
   "cell_type": "code",
   "execution_count": 39,
   "id": "84c984d1-907d-4f16-a8cb-604f268bc6ac",
   "metadata": {},
   "outputs": [
    {
     "data": {
      "text/plain": [
       "0.8506754571636564"
      ]
     },
     "execution_count": 39,
     "metadata": {},
     "output_type": "execute_result"
    }
   ],
   "source": [
    "lr2.score(features,target)"
   ]
  },
  {
   "cell_type": "markdown",
   "id": "1b9cd983-4495-4eeb-b40a-0ace1a925a24",
   "metadata": {},
   "source": [
    "<details>\n",
    "    <summary>Click here for a Hint</summary>\n",
    "    \n",
    "use the score() method\n",
    "</details>\n"
   ]
  },
  {
   "cell_type": "markdown",
   "id": "6caf68fc-3e4b-4c24-b36d-ac29bb29d181",
   "metadata": {},
   "source": [
    "<details>\n",
    "    <summary>Click here for Solution</summary>\n",
    "\n",
    "```python\n",
    "lr2.score(features,target)\n",
    "\n",
    "```\n",
    "\n",
    "</details>\n"
   ]
  },
  {
   "cell_type": "markdown",
   "id": "fd861750-08ac-4a62-805e-2b97854ac964",
   "metadata": {},
   "source": [
    "### Exercise 5 - Predict the price of a diamond\n"
   ]
  },
  {
   "cell_type": "markdown",
   "id": "1c41005a-fa9e-4bbc-9a3b-5bc8a7e024b8",
   "metadata": {},
   "source": [
    "Predict the price of a diamond with carat = 0.3 and depth = 60\n"
   ]
  },
  {
   "cell_type": "code",
   "execution_count": 42,
   "id": "415e07d6-a36b-4458-9d3c-ac739ee46ff1",
   "metadata": {},
   "outputs": [
    {
     "name": "stderr",
     "output_type": "stream",
     "text": [
      "C:\\Users\\shvmpz\\anaconda3V2\\envs\\myenv\\lib\\site-packages\\sklearn\\base.py:450: UserWarning: X does not have valid feature names, but LinearRegression was fitted with feature names\n",
      "  warnings.warn(\n"
     ]
    },
    {
     "data": {
      "text/plain": [
       "array([244.95605225])"
      ]
     },
     "execution_count": 42,
     "metadata": {},
     "output_type": "execute_result"
    }
   ],
   "source": [
    "#your code goes herelr2.predict([[0.3, 60]])\n",
    "lr2.predict([[0.3, 60]])"
   ]
  },
  {
   "cell_type": "markdown",
   "id": "b1698519-8f8f-4ad6-a914-61a480e4608e",
   "metadata": {},
   "source": [
    "<details>\n",
    "    <summary>Click here for a Hint</summary>\n",
    "    \n",
    "use the predict() method\n",
    "</details>\n"
   ]
  },
  {
   "cell_type": "markdown",
   "id": "8a5c2ee2-362a-4850-bbd0-e31b30e0cb99",
   "metadata": {},
   "source": [
    "<details>\n",
    "    <summary>Click here for Solution</summary>\n",
    "\n",
    "```python\n",
    "lr2.predict([[0.3, 60]])\n",
    "\n",
    "```\n",
    "\n",
    "</details>\n"
   ]
  },
  {
   "cell_type": "markdown",
   "id": "4c42c167-10d8-4a33-889a-26a2ba9391c5",
   "metadata": {},
   "source": [
    "Congratulations! You have completed this lab.<br>\n",
    "You are encouraged to experiment creating models with more than 2 feature columns\n"
   ]
  },
  {
   "cell_type": "markdown",
   "id": "51009cdf-38f8-47ea-8f38-3aeb2c92631a",
   "metadata": {},
   "source": [
    "## Authors\n"
   ]
  },
  {
   "cell_type": "markdown",
   "id": "cbc674ef-e54c-4d23-90d7-88b328f54d98",
   "metadata": {},
   "source": [
    "[Ramesh Sannareddy](https://www.linkedin.com/in/rsannareddy/)\n"
   ]
  },
  {
   "cell_type": "markdown",
   "id": "587fcb69-e043-4e76-969b-01598448bba8",
   "metadata": {},
   "source": [
    "## Contributors\n",
    "[Vicky Kuo](https://author.skills.network/instructors/vicky_kuo)\n"
   ]
  },
  {
   "cell_type": "markdown",
   "id": "9fab1c9d-f01a-4a62-b63c-80c8bab15f2d",
   "metadata": {},
   "source": [
    "## Change Log\n"
   ]
  },
  {
   "cell_type": "markdown",
   "id": "dbb3b007-b630-4013-890e-8a76d94540c6",
   "metadata": {},
   "source": [
    "|Date (YYYY-MM-DD)|Version|Changed By|Change Description|\n",
    "|-|-|-|-|\n",
    "|2023-04-14|0.1|Ramesh Sannareddy|Initial Version Created|\n",
    "|2023-06-20|0.3|Vicky Kuo|Proofreading|\n"
   ]
  },
  {
   "cell_type": "markdown",
   "id": "07cb94d0-fe6d-4917-af12-8c7579d4923e",
   "metadata": {},
   "source": [
    "Copyright © 2023 IBM Corporation. All rights reserved.\n"
   ]
  }
 ],
 "metadata": {
  "kernelspec": {
   "display_name": "Python 3 (ipykernel)",
   "language": "python",
   "name": "python3"
  },
  "language_info": {
   "codemirror_mode": {
    "name": "ipython",
    "version": 3
   },
   "file_extension": ".py",
   "mimetype": "text/x-python",
   "name": "python",
   "nbconvert_exporter": "python",
   "pygments_lexer": "ipython3",
   "version": "3.11.1"
  }
 },
 "nbformat": 4,
 "nbformat_minor": 4
}
