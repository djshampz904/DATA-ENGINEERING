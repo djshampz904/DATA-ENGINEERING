{
 "cells": [
  {
   "cell_type": "markdown",
   "id": "45107d20-2969-4944-adf7-e2abd57fc22f",
   "metadata": {},
   "source": [
    "<p style=\"text-align:center\">\n",
    "    <a href=\"https://skills.network\" target=\"_blank\">\n",
    "    <img src=\"https://cf-courses-data.s3.us.cloud-object-storage.appdomain.cloud/assets/logos/SN_web_lightmode.png\" width=\"200\" alt=\"Skills Network Logo\">\n",
    "    </a>\n",
    "</p>\n"
   ]
  },
  {
   "cell_type": "markdown",
   "id": "1e5a0eda-f65f-42e3-9241-fafe66d459c7",
   "metadata": {},
   "source": [
    "## Connecting to spark cluster using Skills Network labs\n"
   ]
  },
  {
   "cell_type": "markdown",
   "id": "4e241cc4-0d87-4305-9e04-9da96c958ad2",
   "metadata": {},
   "source": [
    "Estimated time needed: **10** minutes\n"
   ]
  },
  {
   "cell_type": "markdown",
   "id": "71072689-bfe2-40c7-b9c6-882e4a3909b0",
   "metadata": {},
   "source": [
    "<p style='color: red'>The purpose of this lab is to show you how to connect to a Spark Cluster on Skill Networks Labs.\n"
   ]
  },
  {
   "cell_type": "markdown",
   "id": "c8eb1b07-9a36-4121-98ab-a699b5b8cd82",
   "metadata": {},
   "source": [
    "## __Table of Contents__\n",
    "\n",
    "<ol>\n",
    "    <li><a href=\"#Objectives\">Objectives</a></li>\n",
    "    <li><a href=\"#Datasets\">Datasets</a></li>\n",
    "    <li>\n",
    "        <a href=\"#Setup\">Setup</a>\n",
    "        <ol>\n",
    "            <li><a href=\"#Installing-Required-Libraries\">Installing Required Libraries</a></li>\n",
    "            <li><a href=\"#Importing-Required-Libraries\">Importing Required Libraries</a></li>\n",
    "        </ol>\n",
    "    </li>\n",
    "    <li>\n",
    "        <a href=\"#Examples\">Examples</a>\n",
    "        <ol>\n",
    "            <li><a href=\"#Task-1---Create-a-spark-session\">Task 1 - Create a spark session</a></li>\n",
    "    <li><a href=\"#Task-2---Download-the-data-file\">Task-2 - Download the data file</a></li>\n",
    "<li><a href=\"#Task-3---Load-the-data-in-a-csv-file-into-a-dataframe\">Task 3 - Load the data in a csv file into a dataframe</a></li>\n",
    "    <li><a href=\"#Task-4---Explore-the-data-set\">Task 4 - Explore the data set</a></li>\n",
    "        <li><a href=\"#Task-5---Stop-the-spark-session\">Task 5 - Stop the spark session</a></li>    \n",
    "        </ol>\n",
    "    </li>\n",
    "\n",
    "\n",
    "\n",
    "<li><a href=\"#Exercises\">Exercises</a></li>\n",
    "<ol>\n",
    "    <li><a href=\"#Exercise-1---Create-a-Spark-Session\">Exercise 1 - Create a Spark Session</a></li>\n",
    "    <li><a href=\"#Exercise-2---Load-the-dataset-into-a-dataframe\">Exercise 2 - Load the dataset into a dataframe</a></li>\n",
    "    <li><a href=\"#Exercise-3---Explore-the-data\">Exercise 3 - Explore the data</a></li>\n",
    "    <li><a href=\"#Exercise-4---Print-the-top-5-rows-of-the-dataframe\">Exercise 4 - Print the top 5 rows of the dataframe</a></li>\n",
    "    <li><a href=\"#Exercise-5---Stop-the-spark-session\">Exercise 5 - Stop the spark session</a></li>\n",
    "    </ol>\n",
    "<li><a href=\"#How-to-use-this-lab-notebook-offline\">How to use this lab notebook offline.\n",
    "</a></li>\n",
    "\n",
    "</ol>\n",
    "\n",
    "\n",
    "\n",
    "\n",
    "\n",
    "\n",
    "\n",
    "\n",
    "\n",
    "\n",
    "\n",
    "\n",
    "\n"
   ]
  },
  {
   "cell_type": "markdown",
   "id": "df28fd43-b814-4620-aebf-5459976c6cf7",
   "metadata": {},
   "source": [
    "## Objectives\n",
    "\n",
    "After completing this lab you will be able to:\n",
    "\n",
    " - Use PySpark to connect to a spark cluster.\n",
    " - Create a spark session.\n",
    " - Read a csv file into a data frame using the spark session.\n",
    " - Stop the spark session\n",
    " - Learn how to use this lab notebook offline.\n"
   ]
  },
  {
   "cell_type": "markdown",
   "id": "79e6f1f5-98c0-45c7-aec6-4019238ac2d9",
   "metadata": {},
   "source": [
    "## Datasets\n",
    "\n",
    "In this lab you will be using dataset(s):\n",
    "\n",
    " - Modified version of car mileage dataset.  Original dataset available at https://archive.ics.uci.edu/ml/datasets/auto+mpg \n",
    " - Modified version of diamonds dataset.  Original dataset available at https://www.openml.org/search?type=data&sort=runs&id=42225&status=active\n",
    " \n"
   ]
  },
  {
   "cell_type": "markdown",
   "id": "34c80944-b62d-4c2d-9f8d-02d30455d4a3",
   "metadata": {},
   "source": [
    "----\n"
   ]
  },
  {
   "cell_type": "markdown",
   "id": "cc6e2f99-dcd3-423e-acfa-284eb53c36f5",
   "metadata": {},
   "source": [
    "## Setup\n"
   ]
  },
  {
   "cell_type": "markdown",
   "id": "711ed820-894d-4aad-bb07-632a14a00c48",
   "metadata": {},
   "source": [
    "For this lab, we will be using the following libraries:\n",
    "\n",
    "*   [`PySpark`](https://spark.apache.org/docs/latest/api/python/index.html) for connecting to the Spark Cluster\n"
   ]
  },
  {
   "cell_type": "markdown",
   "id": "95c84c70-2b72-4c57-af35-56331c30bdb1",
   "metadata": {},
   "source": [
    "### Installing Required Libraries\n",
    "\n",
    "Spark Cluster is pre-installed in the Skills Network Labs environment. However, you need libraries like pyspark and findspark to\n",
    " connect to this cluster.\n",
    " \n",
    "If you download this notebook and run on your laptop, you will NOT be able to connect the spark cluster running on the SN labs.\n"
   ]
  },
  {
   "cell_type": "markdown",
   "id": "529ab52e-4d8a-4541-85ee-4c295afe4a1c",
   "metadata": {},
   "source": [
    "The following required libraries are __not__ pre-installed in the Skills Network Labs environment. __You will need to run the following cell__ to install them:\n"
   ]
  },
  {
   "cell_type": "code",
   "execution_count": null,
   "id": "5444a22f-ef31-48ec-b370-478ff4b37f6f",
   "metadata": {},
   "outputs": [],
   "source": [
    "!pip install pyspark==3.1.2 -q\n",
    "!pip install findspark -q"
   ]
  },
  {
   "cell_type": "markdown",
   "id": "cb231373-11e6-4fa2-a44a-2f57aeca7419",
   "metadata": {},
   "source": [
    "### Importing Required Libraries\n",
    "\n",
    "_We recommend you import all required libraries in one place (here):_\n"
   ]
  },
  {
   "cell_type": "code",
   "execution_count": null,
   "id": "a50c00ab-2718-4bb6-86f6-104b602b2648",
   "metadata": {},
   "outputs": [],
   "source": [
    "# You can also use this section to suppress warnings generated by your code:\n",
    "def warn(*args, **kwargs):\n",
    "    pass\n",
    "import warnings\n",
    "warnings.warn = warn\n",
    "warnings.filterwarnings('ignore')\n",
    "\n",
    "# FindSpark simplifies the process of using Apache Spark with Python\n",
    "\n",
    "import findspark\n",
    "findspark.init()\n",
    "\n",
    "# import SparkSession\n",
    "from pyspark.sql import SparkSession"
   ]
  },
  {
   "cell_type": "markdown",
   "id": "387aea3f-6f04-4c04-a72d-aca0a3d97e9b",
   "metadata": {},
   "source": [
    "# Examples\n"
   ]
  },
  {
   "cell_type": "markdown",
   "id": "57379a80-13cc-4000-b578-4694793e6909",
   "metadata": {},
   "source": [
    "## Task 1 - Create a spark session\n"
   ]
  },
  {
   "cell_type": "code",
   "execution_count": null,
   "id": "3637c948-4b2d-4ded-ad3a-d10615f4ea32",
   "metadata": {},
   "outputs": [],
   "source": [
    "#Create SparkSession\n",
    "#Here 'Getting Started with Spark' is the application name\n",
    "#Ignore any warnings by SparkSession command\n",
    "\n",
    "spark = SparkSession.builder.appName(\"Getting Started with Spark\").getOrCreate()"
   ]
  },
  {
   "cell_type": "markdown",
   "id": "e51ba7f7-6676-4f9c-901c-ee6f66968043",
   "metadata": {},
   "source": [
    "## Task 2 - Download the data file\n"
   ]
  },
  {
   "cell_type": "code",
   "execution_count": null,
   "id": "b7386ece-3c80-4120-b3a5-7226c388998c",
   "metadata": {},
   "outputs": [],
   "source": [
    "!wget https://cf-courses-data.s3.us.cloud-object-storage.appdomain.cloud/IBM-BD0231EN-SkillsNetwork/datasets/mpg.csv\n"
   ]
  },
  {
   "cell_type": "markdown",
   "id": "d0448676-beec-4c65-9e76-e15bb63f611b",
   "metadata": {},
   "source": [
    "## Task 3 - Load the data in a csv file into a dataframe\n"
   ]
  },
  {
   "cell_type": "code",
   "execution_count": null,
   "id": "0a4523f5-8162-4287-93c9-da07a77dce0d",
   "metadata": {},
   "outputs": [],
   "source": [
    "# using the spark.read.csv function we load the data into a dataframe.\n",
    "# the header = True mentions that there is a header row in out csv file\n",
    "# the inferSchema = True, tells spark to automatically find out the data types of the columns.\n",
    "\n",
    "# Load mpg dataset\n",
    "mpg_data = spark.read.csv(\"mpg.csv\", header=True, inferSchema=True)\n"
   ]
  },
  {
   "cell_type": "markdown",
   "id": "d506416a-0765-4474-96c0-617cea9214a0",
   "metadata": {},
   "source": [
    "## Task 4 - Explore the data set\n"
   ]
  },
  {
   "cell_type": "markdown",
   "id": "2db61497-75b7-462a-ab26-3c09cff0c321",
   "metadata": {},
   "source": [
    "Let's print the schema of the dataset\n"
   ]
  },
  {
   "cell_type": "code",
   "execution_count": null,
   "id": "9be9951e-cd1b-4499-90bb-7a7e715d3770",
   "metadata": {},
   "outputs": [],
   "source": [
    "mpg_data.printSchema()"
   ]
  },
  {
   "cell_type": "markdown",
   "id": "5b9ae27b-9857-4b56-97b8-a271e5f5886e",
   "metadata": {},
   "source": [
    "Let's look at some sample rows from the dataset we loaded:\n"
   ]
  },
  {
   "cell_type": "code",
   "execution_count": null,
   "id": "dbbad74a-29fd-47f1-8103-3b056f369d5d",
   "metadata": {},
   "outputs": [],
   "source": [
    "# show top 5 rows from the dataset\n",
    "mpg_data.head(5)"
   ]
  },
  {
   "cell_type": "markdown",
   "id": "6dc2b80b-c3e2-43e4-b40f-623331b60ad3",
   "metadata": {},
   "source": [
    "## Task 5 - Stop the spark session\n"
   ]
  },
  {
   "cell_type": "markdown",
   "id": "56aacc45-0103-4968-9036-855513037626",
   "metadata": {},
   "source": [
    "First we identify the target. Target is the value that our machine learning model needs to predict\n"
   ]
  },
  {
   "cell_type": "code",
   "execution_count": null,
   "id": "e1baa652-dbc5-4cf4-9308-ba9dbcc1b439",
   "metadata": {},
   "outputs": [],
   "source": [
    "spark.stop()"
   ]
  },
  {
   "cell_type": "markdown",
   "id": "1a34fa8b-d92a-41fe-b7da-d6061d68de98",
   "metadata": {},
   "source": [
    "# Exercises\n"
   ]
  },
  {
   "cell_type": "markdown",
   "id": "159f352e-bd0c-4435-870b-f2957170fa9e",
   "metadata": {},
   "source": [
    "### Exercise 1 - Create a Spark Session\n"
   ]
  },
  {
   "cell_type": "markdown",
   "id": "7af3e76e-62e1-487a-a5c7-76aa8ab29aab",
   "metadata": {},
   "source": [
    "Create a spark session with appname \"Diamond data analysis\"\n"
   ]
  },
  {
   "cell_type": "code",
   "execution_count": null,
   "id": "0af378be-de52-4081-9cb2-42a6bdff28bc",
   "metadata": {},
   "outputs": [],
   "source": [
    "spark = #TODO\n"
   ]
  },
  {
   "cell_type": "markdown",
   "id": "1c96a8ab-324c-44df-aec5-b37bd5081526",
   "metadata": {},
   "source": [
    "<details>\n",
    "    <summary>Click here for a Hint</summary>\n",
    "    \n",
    "Use SparkSession.builder\n",
    "    \n",
    "</details>\n"
   ]
  },
  {
   "cell_type": "markdown",
   "id": "1e4f4a06-1f64-4d9b-9296-967bd012375b",
   "metadata": {},
   "source": [
    "<details>\n",
    "    <summary>Click here for Solution</summary>\n",
    "\n",
    "```python\n",
    "spark = SparkSession.builder.appName(\"Diamond data analysis\").getOrCreate()\n",
    "\n",
    "```\n",
    "\n",
    "</details>\n"
   ]
  },
  {
   "cell_type": "markdown",
   "id": "4585fe8a-2506-419c-96f1-cff0522cb643",
   "metadata": {},
   "source": [
    "### Exercise 2 - Load the dataset into a dataframe\n"
   ]
  },
  {
   "cell_type": "markdown",
   "id": "b6a70dd9-213d-4d21-b8c8-0a0640124042",
   "metadata": {},
   "source": [
    "Download the data set from \"https://cf-courses-data.s3.us.cloud-object-storage.appdomain.cloud/IBM-BD0231EN-SkillsNetwork/datasets/diamonds.csv\"\n"
   ]
  },
  {
   "cell_type": "code",
   "execution_count": null,
   "id": "8ca7e1df-fad9-4ccf-a29f-394c0767e57a",
   "metadata": {},
   "outputs": [],
   "source": [
    "!wget https://cf-courses-data.s3.us.cloud-object-storage.appdomain.cloud/IBM-BD0231EN-SkillsNetwork/datasets/diamonds.csv\n"
   ]
  },
  {
   "cell_type": "markdown",
   "id": "2a2cb527-04f3-4427-a8f9-24c8d4efa6d4",
   "metadata": {},
   "source": [
    "Load diamond dataset into a dataframe named diamond_data\n"
   ]
  },
  {
   "cell_type": "code",
   "execution_count": null,
   "id": "b3ffd946-37de-4d7c-829a-7981b6f2b48c",
   "metadata": {},
   "outputs": [],
   "source": [
    "diamond_data = #TODO\n"
   ]
  },
  {
   "cell_type": "markdown",
   "id": "7e2f927a-92c2-4387-a1f5-e1359373c473",
   "metadata": {},
   "source": [
    "<details>\n",
    "    <summary>Click here for a Hint</summary>\n",
    "    \n",
    "use spark.read.csv\n",
    "</details>\n"
   ]
  },
  {
   "cell_type": "markdown",
   "id": "31d9f22d-ee3b-43a5-b966-f730bc2454ee",
   "metadata": {},
   "source": [
    "<details>\n",
    "    <summary>Click here for Solution</summary>\n",
    "\n",
    "```python\n",
    "diamond_data = spark.read.csv(\"diamonds.csv\", header=True, inferSchema=True)\n",
    "```\n",
    "\n",
    "</details>\n"
   ]
  },
  {
   "cell_type": "markdown",
   "id": "2d35f8cf-8dd4-4c95-a4e8-347c0b347dab",
   "metadata": {},
   "source": [
    "### Exercise 3 - Explore the data\n"
   ]
  },
  {
   "cell_type": "markdown",
   "id": "5f6af471-9cf9-4a17-8bc9-e5c1870f5b15",
   "metadata": {},
   "source": [
    "Print the schema of the dataframe\n"
   ]
  },
  {
   "cell_type": "code",
   "execution_count": null,
   "id": "dfdc62a5-b71b-4d12-a9d6-a950dbd1e28a",
   "metadata": {},
   "outputs": [],
   "source": [
    "#your code goes here"
   ]
  },
  {
   "cell_type": "markdown",
   "id": "9182d6c1-6cbb-44a8-a065-04452bcfbb8c",
   "metadata": {},
   "source": [
    "<details>\n",
    "    <summary>Click here for a Hint</summary>\n",
    "    \n",
    "use the printSchema method\n",
    "</details>\n"
   ]
  },
  {
   "cell_type": "markdown",
   "id": "dd1a8152-ab04-48e4-bad3-8a9fd4a21228",
   "metadata": {},
   "source": [
    "<details>\n",
    "    <summary>Click here for Solution</summary>\n",
    "\n",
    "diamond_data.printSchema()\n",
    "\n",
    "</details>\n"
   ]
  },
  {
   "cell_type": "markdown",
   "id": "e11fd689-14fb-4b07-9dd2-6415e544b56b",
   "metadata": {},
   "source": [
    "### Exercise 4 - Print the top 5 rows of the dataframe\n"
   ]
  },
  {
   "cell_type": "code",
   "execution_count": null,
   "id": "fb4c677b-3934-4f93-8837-aa8d319865ab",
   "metadata": {},
   "outputs": [],
   "source": [
    "#your code goes here"
   ]
  },
  {
   "cell_type": "markdown",
   "id": "189f8ff7-7502-4820-a980-98bafadc68ac",
   "metadata": {},
   "source": [
    "<details>\n",
    "    <summary>Click here for a Hint</summary>\n",
    "    \n",
    "use the head() method\n",
    "</details>\n"
   ]
  },
  {
   "cell_type": "markdown",
   "id": "20076c05-1781-46a1-a654-32bc84da0232",
   "metadata": {},
   "source": [
    "<details>\n",
    "    <summary>Click here for Solution</summary>\n",
    "\n",
    "```python\n",
    "diamond_data.head(5)\n",
    "```\n",
    "\n",
    "</details>\n"
   ]
  },
  {
   "cell_type": "markdown",
   "id": "60f04b52-51bf-40f9-9118-56d057fb337f",
   "metadata": {},
   "source": [
    "### Exercise 5 - Stop the spark session\n"
   ]
  },
  {
   "cell_type": "code",
   "execution_count": null,
   "id": "b334de3b-2234-416b-bf00-0b9d23cdb20c",
   "metadata": {},
   "outputs": [],
   "source": [
    "#your code goes here"
   ]
  },
  {
   "cell_type": "markdown",
   "id": "04d9deec-db4f-467c-b956-6ce40e04ab0c",
   "metadata": {},
   "source": [
    "<details>\n",
    "    <summary>Click here for a Hint</summary>\n",
    "    \n",
    "use the stop method </details>\n"
   ]
  },
  {
   "cell_type": "markdown",
   "id": "adcb6f17-377e-4962-9f5a-fc171001f236",
   "metadata": {},
   "source": [
    "<details>\n",
    "    <summary>Click here for Solution</summary>\n",
    "\n",
    "```python\n",
    "spark.stop()\n",
    "```\n",
    "\n",
    "</details>\n"
   ]
  },
  {
   "cell_type": "markdown",
   "id": "d29fa533-06fa-42b1-9bb5-a437ed7c2cf9",
   "metadata": {},
   "source": [
    "Congratulations you have completed this lab.<br>\n"
   ]
  },
  {
   "cell_type": "markdown",
   "id": "92d5f9c0-809d-4a13-9a2e-1b2ea78b32bf",
   "metadata": {},
   "source": [
    "### How to use this lab notebook offline\n"
   ]
  },
  {
   "cell_type": "markdown",
   "id": "eba6c3fc-4758-4c6c-89e1-58da1e34a72f",
   "metadata": {},
   "source": [
    " - All the lab jupyter notebooks are designed to work with in the environment of the SN Labs.\n",
    " - If you download this notebook and run on your local machine, it will NOT run.\n",
    " - This is primarily because SN labs runs a Spark cluster instance, and all the Spark based labs connect to it.\n",
    " - If you download this notebook and run, you cannot connect the Spark cluster instance that runs on the SN labs.\n",
    " - However, if you wish to connect to your own instance of Spark cluster you can connect to it by making the changes mentioned below.\n",
    " \n",
    " Replace the code in Task 1 - \"Create a spark session\" with the one given below. Make sure you use your spark-master and port details.\n",
    " \n",
    " spark = SparkSession.builder.appName(\"YourAppName\").master(\"spark://spark-master:port\").getOrCreate()\n"
   ]
  },
  {
   "cell_type": "markdown",
   "id": "846de270-e6af-405e-8997-7320d95df1f3",
   "metadata": {},
   "source": [
    "## Authors\n"
   ]
  },
  {
   "cell_type": "markdown",
   "id": "df421bff-cace-4e6d-9e64-f475742303ba",
   "metadata": {},
   "source": [
    "[Ramesh Sannareddy](https://www.linkedin.com/in/rsannareddy/)\n"
   ]
  },
  {
   "cell_type": "markdown",
   "id": "2b539757-ad00-4d5f-8180-9338833acfdc",
   "metadata": {},
   "source": [
    "### Other Contributors\n"
   ]
  },
  {
   "cell_type": "markdown",
   "id": "55e0a7a8-9384-4ee2-b50e-95c34fa7ca2a",
   "metadata": {},
   "source": [
    "## Change Log\n"
   ]
  },
  {
   "cell_type": "markdown",
   "id": "30769ae7-8789-4e59-82d6-3fbc88ea6de4",
   "metadata": {},
   "source": [
    "|Date (YYYY-MM-DD)|Version|Changed By|Change Description|\n",
    "|-|-|-|-|\n",
    "|2023-07-11|1.1|Ramesh Sannareddy|Add the section 'How to use this lab notebook offline'|\n",
    "|2023-04-25|0.1|Ramesh Sannareddy|Initial Version Created|\n"
   ]
  },
  {
   "cell_type": "markdown",
   "id": "37a26cd1-0811-4d00-9d7d-4e443c5e33cb",
   "metadata": {},
   "source": [
    "Copyright © 2023 IBM Corporation. All rights reserved.\n"
   ]
  }
 ],
 "metadata": {
  "kernelspec": {
   "display_name": "Python 3 (ipykernel)",
   "language": "python",
   "name": "python3"
  },
  "language_info": {
   "codemirror_mode": {
    "name": "ipython",
    "version": 3
   },
   "file_extension": ".py",
   "mimetype": "text/x-python",
   "name": "python",
   "nbconvert_exporter": "python",
   "pygments_lexer": "ipython3",
   "version": "3.9.18"
  }
 },
 "nbformat": 4,
 "nbformat_minor": 4
}
