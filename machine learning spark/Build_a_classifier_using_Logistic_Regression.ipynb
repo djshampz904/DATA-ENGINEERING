{
 "cells": [
  {
   "cell_type": "markdown",
   "id": "8315edf1-1fef-4c4f-9ac1-b9bafb0c24cd",
   "metadata": {},
   "source": [
    "<p style=\"text-align:center\">\n",
    "    <a href=\"https://skills.network/?utm_medium=Exinfluencer&utm_source=Exinfluencer&utm_content=000026UJ&utm_term=10006555&utm_id=NA-SkillsNetwork-Channel-SkillsNetworkCoursesIBMBD0231ENSkillsNetwork866-2023-01-01\">\n",
    "    <img src=\"https://cf-courses-data.s3.us.cloud-object-storage.appdomain.cloud/assets/logos/SN_web_lightmode.png\" width=\"200\" alt=\"Skills Network Logo\"  />\n",
    "    </a>\n",
    "</p>\n"
   ]
  },
  {
   "cell_type": "markdown",
   "id": "99544681-cb30-46c2-a8b5-9ffe907f05d3",
   "metadata": {},
   "source": [
    "## Precise Predictions: Classification for Flower and Tumors\n"
   ]
  },
  {
   "cell_type": "markdown",
   "id": "0b36aff7-6b07-4701-9965-8670ae2e930c",
   "metadata": {},
   "source": [
    "<img src=\"https://cf-courses-data.s3.us.cloud-object-storage.appdomain.cloud/IBM-BD0231EN-SkillsNetwork/tenrjo9ryixw4mqpv9ys8v7jdr5q.png\" width=\"50%\">\n"
   ]
  },
  {
   "cell_type": "markdown",
   "id": "f4ef59af-a980-4cbf-a166-a33295d373bf",
   "metadata": {},
   "source": [
    "Estimated time needed: **30** minutes\n"
   ]
  },
  {
   "cell_type": "markdown",
   "id": "9714dba5-bbc8-4b2a-b6bd-12c155e8870e",
   "metadata": {},
   "source": [
    "<p style='color: red'>The purpose of this lab is to show you how to create a classifier that can classify the various species of flowers. You will also build a classifier that detects cancerous tumours.</p>\n"
   ]
  },
  {
   "cell_type": "markdown",
   "id": "73d1b013-ffe3-46ce-a0de-ecf636c3410a",
   "metadata": {},
   "source": [
    "## __Table of Contents__\n",
    "\n",
    "<ol>\n",
    "    <li><a href=\"#Objectives\">Objectives</a></li>\n",
    "    <li><a href=\"#Datasets\">Datasets</a></li>\n",
    "    <li>\n",
    "        <a href=\"#Setup\">Setup</a>\n",
    "        <ol>\n",
    "            <li><a href=\"#Installing-Required-Libraries\">Installing Required Libraries</a></li>\n",
    "            <li><a href=\"#Importing-Required-Libraries\">Importing Required Libraries</a></li>\n",
    "        </ol>\n",
    "    </li>\n",
    "    <li>\n",
    "        <a href=\"#Examples\">Examples</a>\n",
    "        <ol>\n",
    "            <li><a href=\"#Task-1---Load-the-data-in-a-csv-file-into-a-dataframe\">Task 1 - Load the data in a csv file into a dataframe</a></li>\n",
    "    <li><a href=\"#Task-2---Identify-the-target-column-and-the-data-columns\">Task 2 - Identify the target column and the data columns</a></li>\n",
    "    <li><a href=\"#Task-3---Build-and-train-a-classifier\">Task 3 - Build and train a classifier</a></li>\n",
    "    <li><a href=\"#Task-4---Evaluate-the-model\">Task 4 - Evaluate the model</a></li>        </ol>\n",
    "    </li>\n",
    "    \n",
    "\n",
    "## Task 4 - Evaluate the model and make predictions\n",
    "<li><a href=\"#Exercises\">Exercises</a></li>\n",
    "<ol>\n",
    "    <li><a href=\"#Exercise-1---Load-a-dataset\">Exercise 1 - Load a dataset</a></li>\n",
    "    <li><a href=\"#Exercise-2---Identify-the-target-column-and-the-data-columns\">Exercise 2 - Identify the target column and the data columns</a></li>\n",
    "    <li><a href=\"#Exercise-3---Build-and-Train-a-new-classifier\">Exercise 3 - Build and Train a new classifier</a></li>\n",
    "    <li><a href=\"#Exercise-4---Evaluate-the-model\">Exercise 4 - Evaluate the model</a></li>\n",
    "    <li><a href=\"#Exercise-5---Find-out-if-a-tumor-is-cancerous\">Exercise 5 - Find out if a tumor is cancerous</a></li>\n",
    "    </ol>\n",
    "</ol>\n",
    "\n",
    "\n"
   ]
  },
  {
   "cell_type": "markdown",
   "id": "cd0d474f-1d60-469f-bc47-be3c483f7b0a",
   "metadata": {},
   "source": [
    "## Objectives\n",
    "\n",
    "After completing this lab you will be able to:\n",
    "\n",
    " - Use Pandas to load data sets.\n",
    " - Identify the target and features.\n",
    " - Use Logistic Regression to build a classifier.\n",
    " - Use metrics to evaluate the model.\n",
    " - Make predictions using a trained model.\n"
   ]
  },
  {
   "cell_type": "markdown",
   "id": "95a4e55a-4b0a-4049-8819-0c2256a91433",
   "metadata": {},
   "source": [
    "## Datasets\n",
    "\n",
    "In this lab you will be using dataset(s):\n",
    "\n",
    " - Modified version of iris dataset. Original dataset available at https://archive.ics.uci.edu/ml/datasets/Iris \n",
    " - Modified version of Breast Cancer dataset.  Original dataset available at https://archive.ics.uci.edu/dataset/17/breast+cancer+wisconsin+diagnostic\n",
    " \n"
   ]
  },
  {
   "cell_type": "markdown",
   "id": "a2f3ff72-f3c8-44a2-8e93-713a16f5b4ea",
   "metadata": {},
   "source": [
    "## Setup\n"
   ]
  },
  {
   "cell_type": "markdown",
   "id": "0e7ad690-d6c2-4eab-b488-c3557d38c6d6",
   "metadata": {},
   "source": [
    "For this lab, we will be using the following libraries:\n",
    "\n",
    "*   [`pandas`](https://pandas.pydata.org/?utm_medium=Exinfluencer&utm_source=Exinfluencer&utm_content=000026UJ&utm_term=10006555&utm_id=NA-SkillsNetwork-Channel-SkillsNetworkCoursesIBMML0187ENSkillsNetwork31430127-2021-01-01) for managing the data.\n",
    "*   [`sklearn`](https://scikit-learn.org/stable/?utm_medium=Exinfluencer&utm_source=Exinfluencer&utm_content=000026UJ&utm_term=10006555&utm_id=NA-SkillsNetwork-Channel-SkillsNetworkCoursesIBMML0187ENSkillsNetwork31430127-2021-01-01) for machine learning and machine-learning-pipeline related functions.\n"
   ]
  },
  {
   "cell_type": "markdown",
   "id": "6175d4ad-8e34-45fc-9a1c-b0a8776f36c0",
   "metadata": {},
   "source": [
    "### Installing Required Libraries\n",
    "\n",
    "The following required libraries are pre-installed in the Skills Network Labs environment. However, if you run this notebook commands in a different Jupyter environment (e.g. Watson Studio or Ananconda), you will need to install these libraries by removing the `#` sign before `!pip` in the code cell below.\n"
   ]
  },
  {
   "cell_type": "code",
   "execution_count": null,
   "id": "0064702b-fccf-485e-885f-2282a89e5dc0",
   "metadata": {},
   "outputs": [],
   "source": [
    "# All Libraries required for this lab are listed below. The libraries pre-installed on Skills Network Labs are commented.\n",
    "# !pip install pandas==1.3.4\n",
    "# !pip install scikit-learn==0.20.1\n"
   ]
  },
  {
   "cell_type": "markdown",
   "id": "336f9e65-0f55-4279-a8f7-853f4a9e9a33",
   "metadata": {},
   "source": [
    "The following required libraries are __not__ pre-installed in the Skills Network Labs environment. __You will need to run the following cell__ to install them:\n"
   ]
  },
  {
   "cell_type": "code",
   "execution_count": null,
   "id": "910a0dbb-68cf-465f-921f-01e2d35068c5",
   "metadata": {},
   "outputs": [],
   "source": [
    "#None"
   ]
  },
  {
   "cell_type": "markdown",
   "id": "8e6d8b9d-4080-4032-885d-4e732c7d0a6e",
   "metadata": {},
   "source": [
    "### Importing Required Libraries\n",
    "\n",
    "_We recommend you import all required libraries in one place (here):_\n"
   ]
  },
  {
   "cell_type": "code",
   "execution_count": 1,
   "id": "95fc91ef-8f9b-42ea-9af2-6d9e2d2b6c2c",
   "metadata": {},
   "outputs": [],
   "source": [
    "# You can also use this section to suppress warnings generated by your code:\n",
    "def warn(*args, **kwargs):\n",
    "    pass\n",
    "import warnings\n",
    "warnings.warn = warn\n",
    "warnings.filterwarnings('ignore')\n",
    "\n",
    "import pandas as pd\n",
    "from sklearn.linear_model import LogisticRegression"
   ]
  },
  {
   "cell_type": "markdown",
   "id": "d5ca0c1d-e609-4061-b9e4-d6716a9a42ea",
   "metadata": {},
   "source": [
    "## Task 1 - Load the data in a csv file into a dataframe\n"
   ]
  },
  {
   "cell_type": "code",
   "execution_count": 2,
   "id": "29e509aa-b45b-4606-929b-48f258b5bfab",
   "metadata": {},
   "outputs": [],
   "source": [
    "# the data set is available at the url below.\n",
    "URL = \"https://cf-courses-data.s3.us.cloud-object-storage.appdomain.cloud/IBM-BD0231EN-SkillsNetwork/datasets/iris.csv\"\n",
    "\n",
    "# using the read_csv function in the pandas library, we load the data into a dataframe.\n",
    "\n",
    "df = pd.read_csv(URL)"
   ]
  },
  {
   "cell_type": "markdown",
   "id": "abf3b95c-6b0a-4e08-baf8-f05f83517d6d",
   "metadata": {},
   "source": [
    "Let's look at some sample rows from the dataset we loaded:\n"
   ]
  },
  {
   "cell_type": "code",
   "execution_count": 3,
   "id": "f051b4d7-bd26-4a7e-a635-fb77c846c4ad",
   "metadata": {},
   "outputs": [
    {
     "data": {
      "text/html": [
       "<div>\n",
       "<style scoped>\n",
       "    .dataframe tbody tr th:only-of-type {\n",
       "        vertical-align: middle;\n",
       "    }\n",
       "\n",
       "    .dataframe tbody tr th {\n",
       "        vertical-align: top;\n",
       "    }\n",
       "\n",
       "    .dataframe thead th {\n",
       "        text-align: right;\n",
       "    }\n",
       "</style>\n",
       "<table border=\"1\" class=\"dataframe\">\n",
       "  <thead>\n",
       "    <tr style=\"text-align: right;\">\n",
       "      <th></th>\n",
       "      <th>SepalLengthCm</th>\n",
       "      <th>SepalWidthCm</th>\n",
       "      <th>PetalLengthCm</th>\n",
       "      <th>PetalWidthCm</th>\n",
       "      <th>Species</th>\n",
       "    </tr>\n",
       "  </thead>\n",
       "  <tbody>\n",
       "    <tr>\n",
       "      <th>94</th>\n",
       "      <td>5.6</td>\n",
       "      <td>2.7</td>\n",
       "      <td>4.2</td>\n",
       "      <td>1.3</td>\n",
       "      <td>Iris-versicolor</td>\n",
       "    </tr>\n",
       "    <tr>\n",
       "      <th>31</th>\n",
       "      <td>5.4</td>\n",
       "      <td>3.4</td>\n",
       "      <td>1.5</td>\n",
       "      <td>0.4</td>\n",
       "      <td>Iris-setosa</td>\n",
       "    </tr>\n",
       "    <tr>\n",
       "      <th>79</th>\n",
       "      <td>5.7</td>\n",
       "      <td>2.6</td>\n",
       "      <td>3.5</td>\n",
       "      <td>1.0</td>\n",
       "      <td>Iris-versicolor</td>\n",
       "    </tr>\n",
       "    <tr>\n",
       "      <th>25</th>\n",
       "      <td>5.0</td>\n",
       "      <td>3.0</td>\n",
       "      <td>1.6</td>\n",
       "      <td>0.2</td>\n",
       "      <td>Iris-setosa</td>\n",
       "    </tr>\n",
       "    <tr>\n",
       "      <th>112</th>\n",
       "      <td>6.8</td>\n",
       "      <td>3.0</td>\n",
       "      <td>5.5</td>\n",
       "      <td>2.1</td>\n",
       "      <td>Iris-virginica</td>\n",
       "    </tr>\n",
       "  </tbody>\n",
       "</table>\n",
       "</div>"
      ],
      "text/plain": [
       "     SepalLengthCm  SepalWidthCm  PetalLengthCm  PetalWidthCm          Species\n",
       "94             5.6           2.7            4.2           1.3  Iris-versicolor\n",
       "31             5.4           3.4            1.5           0.4      Iris-setosa\n",
       "79             5.7           2.6            3.5           1.0  Iris-versicolor\n",
       "25             5.0           3.0            1.6           0.2      Iris-setosa\n",
       "112            6.8           3.0            5.5           2.1   Iris-virginica"
      ]
     },
     "execution_count": 3,
     "metadata": {},
     "output_type": "execute_result"
    }
   ],
   "source": [
    "# show 5 random rows from the dataset\n",
    "df.sample(5)"
   ]
  },
  {
   "cell_type": "markdown",
   "id": "f87711b3-95b5-40ca-a08e-6a3e68229681",
   "metadata": {},
   "source": [
    "Let's find out the number of rows and columns in the dataset:\n"
   ]
  },
  {
   "cell_type": "code",
   "execution_count": 4,
   "id": "639093a9-6385-455a-8d04-2c898f569ba9",
   "metadata": {},
   "outputs": [
    {
     "data": {
      "text/plain": [
       "(150, 5)"
      ]
     },
     "execution_count": 4,
     "metadata": {},
     "output_type": "execute_result"
    }
   ],
   "source": [
    "df.shape"
   ]
  },
  {
   "cell_type": "markdown",
   "id": "8f077407-bbe3-4480-b223-230bdbc9ff23",
   "metadata": {},
   "source": [
    "Let's plot the types and count of species\n"
   ]
  },
  {
   "cell_type": "code",
   "execution_count": 5,
   "id": "6ac5f5d0-a547-427a-9663-a11e85698751",
   "metadata": {},
   "outputs": [
    {
     "data": {
      "text/plain": [
       "<Axes: >"
      ]
     },
     "execution_count": 5,
     "metadata": {},
     "output_type": "execute_result"
    },
    {
     "data": {
      "image/png": "[encoded data removed]",
      "text/plain": [
       "<Figure size 640x480 with 1 Axes>"
      ]
     },
     "metadata": {},
     "output_type": "display_data"
    }
   ],
   "source": [
    "df.Species.value_counts().plot.bar()"
   ]
  },
  {
   "cell_type": "markdown",
   "id": "de4726ad-099f-44a7-b9fe-22cac40f9b3a",
   "metadata": {},
   "source": [
    "You can see that there are 3 species and 50 flowers for each type of species. \n"
   ]
  },
  {
   "cell_type": "markdown",
   "id": "366cf41c-16ef-4e61-a972-2f38f2730675",
   "metadata": {},
   "source": [
    "## Task 2 - Identify the target column and the data columns\n"
   ]
  },
  {
   "cell_type": "markdown",
   "id": "58a3dcc7-6bbc-4ea5-a1c6-9a61ef17662a",
   "metadata": {},
   "source": [
    "First we identify the target. Target is the value that our machine learning model needs to classify\n"
   ]
  },
  {
   "cell_type": "code",
   "execution_count": 6,
   "id": "13857b0a-c031-439a-b25b-2d1c64b460c7",
   "metadata": {},
   "outputs": [],
   "source": [
    "target = df[\"Species\"]"
   ]
  },
  {
   "cell_type": "markdown",
   "id": "67d2760a-1ec4-4ca8-b7c9-13d8bc5d4585",
   "metadata": {},
   "source": [
    "We identify the features next. Features are the input values our machine learning model learns from\n"
   ]
  },
  {
   "cell_type": "code",
   "execution_count": 7,
   "id": "dd4fb204-f937-4575-9d35-d3f8573a0f99",
   "metadata": {},
   "outputs": [],
   "source": [
    "features = df[[\"SepalLengthCm\",\"SepalWidthCm\",\"PetalLengthCm\",\"PetalWidthCm\"]]"
   ]
  },
  {
   "cell_type": "markdown",
   "id": "8282e495-ed46-44de-9885-d23bbbf37def",
   "metadata": {},
   "source": [
    "## Task 3 - Build and train a classifier\n"
   ]
  },
  {
   "cell_type": "markdown",
   "id": "7353b05a-9eb6-4dcd-936c-086de3409d61",
   "metadata": {},
   "source": [
    "Create a Logistic Regression model\n"
   ]
  },
  {
   "cell_type": "code",
   "execution_count": 8,
   "id": "ac18b56d-8dd5-487c-9379-4ebfccab5009",
   "metadata": {},
   "outputs": [],
   "source": [
    "classifier = LogisticRegression()"
   ]
  },
  {
   "cell_type": "markdown",
   "id": "89be2057-94f0-4016-b5ba-43344ffc3340",
   "metadata": {},
   "source": [
    "Train/Fit the model\n"
   ]
  },
  {
   "cell_type": "code",
   "execution_count": 9,
   "id": "8ce0c1c5-4ebb-4f44-9a3a-c0fb8a51f4b3",
   "metadata": {},
   "outputs": [
    {
     "data": {
      "text/plain": [
       "LogisticRegression()"
      ]
     },
     "execution_count": 9,
     "metadata": {},
     "output_type": "execute_result"
    }
   ],
   "source": [
    "classifier.fit(features,target)"
   ]
  },
  {
   "cell_type": "markdown",
   "id": "5c82dfa1-f8b8-4579-9b9e-734583d29268",
   "metadata": {},
   "source": [
    "## Task 4 - Evaluate the model\n"
   ]
  },
  {
   "cell_type": "markdown",
   "id": "04c2f005-a713-4902-82d1-ac3f8c7e5353",
   "metadata": {},
   "source": [
    "Your model is now trained. Time to evaluate the model.\n"
   ]
  },
  {
   "cell_type": "code",
   "execution_count": 10,
   "id": "7d14cb04-3671-4742-8e56-c8cf49b9b5e7",
   "metadata": {},
   "outputs": [
    {
     "data": {
      "text/plain": [
       "0.9733333333333334"
      ]
     },
     "execution_count": 10,
     "metadata": {},
     "output_type": "execute_result"
    }
   ],
   "source": [
    "#Higher the score, better the model.\n",
    "classifier.score(features,target)"
   ]
  },
  {
   "cell_type": "markdown",
   "id": "9135d111-ea38-4660-92f1-101aefc0e5fd",
   "metadata": {},
   "source": [
    "Make predictions. Let us predict the species of a flower with SepalLengthCm = 5.4, SepalWidthCm = 2.6, PetalLengthCm = 4.1, PetalWidthCm = 1.3\n"
   ]
  },
  {
   "cell_type": "code",
   "execution_count": 11,
   "id": "18196138-3d3a-428a-ad7e-007d8fe7d910",
   "metadata": {},
   "outputs": [
    {
     "data": {
      "text/plain": [
       "array(['Iris-versicolor'], dtype=object)"
      ]
     },
     "execution_count": 11,
     "metadata": {},
     "output_type": "execute_result"
    }
   ],
   "source": [
    "classifier.predict([[5.4,2.6,4.1,1.3]])"
   ]
  },
  {
   "cell_type": "code",
   "execution_count": null,
   "id": "fc60a167-ef7e-4d74-9759-9420bb0724ca",
   "metadata": {},
   "outputs": [],
   "source": [
    "# it should be a Iris-versicolor "
   ]
  },
  {
   "cell_type": "markdown",
   "id": "be947695-6606-4ef5-9be0-9fc8ba2291e1",
   "metadata": {},
   "source": [
    "# Exercises\n"
   ]
  },
  {
   "cell_type": "code",
   "execution_count": 12,
   "id": "bd05a63f-faf8-4205-a5a4-85080aa88ca5",
   "metadata": {},
   "outputs": [],
   "source": [
    "URL2 = \"https://cf-courses-data.s3.us.cloud-object-storage.appdomain.cloud/IBM-BD0231EN-SkillsNetwork/datasets/cancer.csv\"\n"
   ]
  },
  {
   "cell_type": "markdown",
   "id": "056d5c6b-97b1-485c-8b65-26f7c54dc622",
   "metadata": {},
   "source": [
    "### Exercise 1 - Load a dataset\n"
   ]
  },
  {
   "cell_type": "markdown",
   "id": "c6386382-8e1a-4ecd-ae76-2f78b3787283",
   "metadata": {},
   "source": [
    "Load the cancer dataset available at URL2\n"
   ]
  },
  {
   "cell_type": "code",
   "execution_count": 13,
   "id": "f986155b-b5a1-4b73-b615-cd12fe75b794",
   "metadata": {},
   "outputs": [],
   "source": [
    "df2 = pd.read_csv(URL2)"
   ]
  },
  {
   "cell_type": "code",
   "execution_count": 18,
   "metadata": {},
   "outputs": [
    {
     "data": {
      "text/html": [
       "<div>\n",
       "<style scoped>\n",
       "    .dataframe tbody tr th:only-of-type {\n",
       "        vertical-align: middle;\n",
       "    }\n",
       "\n",
       "    .dataframe tbody tr th {\n",
       "        vertical-align: top;\n",
       "    }\n",
       "\n",
       "    .dataframe thead th {\n",
       "        text-align: right;\n",
       "    }\n",
       "</style>\n",
       "<table border=\"1\" class=\"dataframe\">\n",
       "  <thead>\n",
       "    <tr style=\"text-align: right;\">\n",
       "      <th></th>\n",
       "      <th>radius_mean</th>\n",
       "      <th>perimeter_mean</th>\n",
       "      <th>area_mean</th>\n",
       "      <th>smoothness_mean</th>\n",
       "      <th>compactness_mean</th>\n",
       "      <th>concavity_mean</th>\n",
       "      <th>symmetry_mean</th>\n",
       "      <th>diagnosis</th>\n",
       "    </tr>\n",
       "  </thead>\n",
       "  <tbody>\n",
       "    <tr>\n",
       "      <th>482</th>\n",
       "      <td>13.47</td>\n",
       "      <td>87.32</td>\n",
       "      <td>546.3</td>\n",
       "      <td>0.10710</td>\n",
       "      <td>0.11550</td>\n",
       "      <td>0.05786</td>\n",
       "      <td>0.1779</td>\n",
       "      <td>Benign</td>\n",
       "    </tr>\n",
       "    <tr>\n",
       "      <th>174</th>\n",
       "      <td>10.66</td>\n",
       "      <td>67.49</td>\n",
       "      <td>349.6</td>\n",
       "      <td>0.08792</td>\n",
       "      <td>0.04302</td>\n",
       "      <td>0.00000</td>\n",
       "      <td>0.1928</td>\n",
       "      <td>Benign</td>\n",
       "    </tr>\n",
       "    <tr>\n",
       "      <th>275</th>\n",
       "      <td>11.89</td>\n",
       "      <td>76.20</td>\n",
       "      <td>435.6</td>\n",
       "      <td>0.12250</td>\n",
       "      <td>0.07210</td>\n",
       "      <td>0.05929</td>\n",
       "      <td>0.2015</td>\n",
       "      <td>Benign</td>\n",
       "    </tr>\n",
       "    <tr>\n",
       "      <th>379</th>\n",
       "      <td>11.08</td>\n",
       "      <td>73.30</td>\n",
       "      <td>361.6</td>\n",
       "      <td>0.12160</td>\n",
       "      <td>0.21540</td>\n",
       "      <td>0.16890</td>\n",
       "      <td>0.2196</td>\n",
       "      <td>Malignant</td>\n",
       "    </tr>\n",
       "    <tr>\n",
       "      <th>421</th>\n",
       "      <td>14.69</td>\n",
       "      <td>98.22</td>\n",
       "      <td>656.1</td>\n",
       "      <td>0.10310</td>\n",
       "      <td>0.18360</td>\n",
       "      <td>0.14500</td>\n",
       "      <td>0.2086</td>\n",
       "      <td>Benign</td>\n",
       "    </tr>\n",
       "    <tr>\n",
       "      <th>380</th>\n",
       "      <td>11.27</td>\n",
       "      <td>73.16</td>\n",
       "      <td>386.3</td>\n",
       "      <td>0.12370</td>\n",
       "      <td>0.11110</td>\n",
       "      <td>0.07900</td>\n",
       "      <td>0.2018</td>\n",
       "      <td>Benign</td>\n",
       "    </tr>\n",
       "    <tr>\n",
       "      <th>155</th>\n",
       "      <td>12.25</td>\n",
       "      <td>78.27</td>\n",
       "      <td>460.3</td>\n",
       "      <td>0.08654</td>\n",
       "      <td>0.06679</td>\n",
       "      <td>0.03885</td>\n",
       "      <td>0.1970</td>\n",
       "      <td>Benign</td>\n",
       "    </tr>\n",
       "    <tr>\n",
       "      <th>388</th>\n",
       "      <td>11.27</td>\n",
       "      <td>73.38</td>\n",
       "      <td>392.0</td>\n",
       "      <td>0.08365</td>\n",
       "      <td>0.11140</td>\n",
       "      <td>0.10070</td>\n",
       "      <td>0.1810</td>\n",
       "      <td>Benign</td>\n",
       "    </tr>\n",
       "    <tr>\n",
       "      <th>230</th>\n",
       "      <td>17.05</td>\n",
       "      <td>113.40</td>\n",
       "      <td>895.0</td>\n",
       "      <td>0.11410</td>\n",
       "      <td>0.15720</td>\n",
       "      <td>0.19100</td>\n",
       "      <td>0.2131</td>\n",
       "      <td>Malignant</td>\n",
       "    </tr>\n",
       "    <tr>\n",
       "      <th>489</th>\n",
       "      <td>16.69</td>\n",
       "      <td>107.10</td>\n",
       "      <td>857.6</td>\n",
       "      <td>0.07497</td>\n",
       "      <td>0.07112</td>\n",
       "      <td>0.03649</td>\n",
       "      <td>0.1846</td>\n",
       "      <td>Malignant</td>\n",
       "    </tr>\n",
       "  </tbody>\n",
       "</table>\n",
       "</div>"
      ],
      "text/plain": [
       "     radius_mean  perimeter_mean  area_mean  smoothness_mean  \\\n",
       "482        13.47           87.32      546.3          0.10710   \n",
       "174        10.66           67.49      349.6          0.08792   \n",
       "275        11.89           76.20      435.6          0.12250   \n",
       "379        11.08           73.30      361.6          0.12160   \n",
       "421        14.69           98.22      656.1          0.10310   \n",
       "380        11.27           73.16      386.3          0.12370   \n",
       "155        12.25           78.27      460.3          0.08654   \n",
       "388        11.27           73.38      392.0          0.08365   \n",
       "230        17.05          113.40      895.0          0.11410   \n",
       "489        16.69          107.10      857.6          0.07497   \n",
       "\n",
       "     compactness_mean  concavity_mean  symmetry_mean  diagnosis  \n",
       "482           0.11550         0.05786         0.1779     Benign  \n",
       "174           0.04302         0.00000         0.1928     Benign  \n",
       "275           0.07210         0.05929         0.2015     Benign  \n",
       "379           0.21540         0.16890         0.2196  Malignant  \n",
       "421           0.18360         0.14500         0.2086     Benign  \n",
       "380           0.11110         0.07900         0.2018     Benign  \n",
       "155           0.06679         0.03885         0.1970     Benign  \n",
       "388           0.11140         0.10070         0.1810     Benign  \n",
       "230           0.15720         0.19100         0.2131  Malignant  \n",
       "489           0.07112         0.03649         0.1846  Malignant  "
      ]
     },
     "execution_count": 18,
     "metadata": {},
     "output_type": "execute_result"
    }
   ],
   "source": [
    "df2.sample(10)"
   ]
  },
  {
   "cell_type": "code",
   "execution_count": 16,
   "metadata": {},
   "outputs": [
    {
     "data": {
      "text/plain": [
       "<Axes: >"
      ]
     },
     "execution_count": 16,
     "metadata": {},
     "output_type": "execute_result"
    },
    {
     "data": {
      "image/png": "[encoded data removed]",
      "text/plain": [
       "<Figure size 640x480 with 1 Axes>"
      ]
     },
     "metadata": {},
     "output_type": "display_data"
    }
   ],
   "source": [
    "df2.diagnosis.value_counts().plot.bar()"
   ]
  },
  {
   "cell_type": "markdown",
   "id": "620ccb46-4b80-4a76-98ce-d7df9a45cc3f",
   "metadata": {},
   "source": [
    "<details>\n",
    "    <summary>Click here for a Hint</summary>\n",
    "    \n",
    "Use the read_csv function\n",
    "\n",
    "</details>\n"
   ]
  },
  {
   "cell_type": "markdown",
   "id": "f2aafb46-a677-41ff-be6c-7eea8b425aef",
   "metadata": {},
   "source": [
    "<details>\n",
    "    <summary>Click here for Solution</summary>\n",
    "\n",
    "```python\n",
    "df2 = pd.read_csv(URL2)\n",
    "```\n",
    "\n",
    "</details>\n"
   ]
  },
  {
   "cell_type": "markdown",
   "id": "ff395d50-d160-4d84-bb9c-c6cf07b05d23",
   "metadata": {},
   "source": [
    "### Exercise 2 - Identify the target column and the data columns\n"
   ]
  },
  {
   "cell_type": "markdown",
   "id": "f1d1c196-369e-4cd6-bf7f-ecf15e929f2b",
   "metadata": {},
   "source": [
    " - use the diagnosis column as target\n",
    " - use all the other columns except diagnosis as features\n"
   ]
  },
  {
   "cell_type": "code",
   "execution_count": 23,
   "id": "b5284429-6122-4fc5-8a19-0b0dbbd72885",
   "metadata": {},
   "outputs": [],
   "source": [
    "target = df2[\"diagnosis\"]\n",
    "features = df2[[\"radius_mean\", \"perimeter_mean\", \"area_mean\", \"smoothness_mean\", \"compactness_mean\",\n",
    "                \"concavity_mean\", \"symmetry_mean\"]]"
   ]
  },
  {
   "cell_type": "markdown",
   "id": "e1e7b177-41cd-415e-b875-c0f290e4f5f1",
   "metadata": {},
   "source": [
    "<details>\n",
    "    <summary>Click here for a Hint</summary>\n",
    "    \n",
    "Refer to Task2\n",
    "</details>\n"
   ]
  },
  {
   "cell_type": "markdown",
   "id": "8232cd7e-0565-4605-ad9c-9924452aef56",
   "metadata": {},
   "source": [
    "<details>\n",
    "    <summary>Click here for Solution</summary>\n",
    "\n",
    "```python\n",
    "target = df2[\"diagnosis\"]\n",
    "features = df2[['radius_mean', 'perimeter_mean', 'area_mean', 'smoothness_mean', 'compactness_mean', 'concavity_mean', 'symmetry_mean']]\n",
    "```\n",
    "\n",
    "</details>\n"
   ]
  },
  {
   "cell_type": "markdown",
   "id": "c06e6a84-2ed3-4491-a4c5-814790835f5c",
   "metadata": {},
   "source": [
    "### Exercise 3 - Build and Train a new classifier\n"
   ]
  },
  {
   "cell_type": "markdown",
   "id": "741cce7c-98f1-43f3-bec1-8fd1503da6bb",
   "metadata": {},
   "source": [
    "Create a new Classifier\n"
   ]
  },
  {
   "cell_type": "code",
   "execution_count": 25,
   "id": "631dcbcf-b6db-498a-9c43-e732f202c0eb",
   "metadata": {},
   "outputs": [
    {
     "data": {
      "text/plain": [
       "LogisticRegression()"
      ]
     },
     "execution_count": 25,
     "metadata": {},
     "output_type": "execute_result"
    }
   ],
   "source": [
    "classifier2 = LogisticRegression()\n",
    "classifier2.fit(features,target)"
   ]
  },
  {
   "cell_type": "markdown",
   "id": "71f07d93-eb6e-4448-99e5-2142e4308176",
   "metadata": {},
   "source": [
    "<details>\n",
    "    <summary>Click here for a Hint</summary>\n",
    "    \n",
    "fit using the features and target\n",
    "</details>\n"
   ]
  },
  {
   "cell_type": "markdown",
   "id": "ccf70343-2fae-4677-b3ce-4ccab5fccdde",
   "metadata": {},
   "source": [
    "<details>\n",
    "    <summary>Click here for Solution</summary>\n",
    "\n",
    "```python\n",
    "classifier2 = LogisticRegression()\n",
    "classifier2.fit(features,target)\n",
    "\n",
    "```\n",
    "\n",
    "</details>\n"
   ]
  },
  {
   "cell_type": "markdown",
   "id": "9eaf906e-7039-445f-86d2-6b1f757bae71",
   "metadata": {},
   "source": [
    "### Exercise 4 - Evaluate the model\n"
   ]
  },
  {
   "cell_type": "markdown",
   "id": "9de12dd6-8115-47d6-969a-cd6994617a1a",
   "metadata": {},
   "source": [
    "Print the score of the model\n"
   ]
  },
  {
   "cell_type": "code",
   "execution_count": 26,
   "id": "309915a4-d813-4f29-820d-d5ada3597602",
   "metadata": {},
   "outputs": [
    {
     "data": {
      "text/plain": [
       "0.8963093145869947"
      ]
     },
     "execution_count": 26,
     "metadata": {},
     "output_type": "execute_result"
    }
   ],
   "source": [
    "classifier2.score(features,target)"
   ]
  },
  {
   "cell_type": "markdown",
   "id": "003a3815-a2f8-496a-a549-18f5d487e379",
   "metadata": {},
   "source": [
    "<details>\n",
    "    <summary>Click here for a Hint</summary>\n",
    "    \n",
    "use the score() method\n",
    "</details>\n"
   ]
  },
  {
   "cell_type": "markdown",
   "id": "d7f6cebf-fd80-429a-88f9-95b00df33cc9",
   "metadata": {},
   "source": [
    "<details>\n",
    "    <summary>Click here for Solution</summary>\n",
    "\n",
    "```python\n",
    "classifier2.score(features,target)\n",
    "\n",
    "```\n",
    "\n",
    "</details>\n"
   ]
  },
  {
   "cell_type": "markdown",
   "id": "c53dcc5e-3bab-4031-bf20-459bbd29698c",
   "metadata": {},
   "source": [
    "### Exercise 5 - Find out if a tumor is cancerous\n"
   ]
  },
  {
   "cell_type": "markdown",
   "id": "7b3323ef-2b0c-4900-821d-54eeb65eb277",
   "metadata": {},
   "source": [
    "Classify the tumor with\n",
    "\n",
    "'radius_mean' = 13.45,\n",
    " 'perimeter_mean'= 86.6,\n",
    " 'area_mean' = 555.1,\n",
    " 'smoothness_mean' = 0.1022,\n",
    " 'compactness_mean' = 0.08165,\n",
    " 'concavity_mean' = 0.03974,\n",
    " 'symmetry_mean' = 0.1638\n",
    " \n",
    " \t\t\t\t\t\t\n"
   ]
  },
  {
   "cell_type": "code",
   "execution_count": 28,
   "id": "4295f117-86c5-4b81-922f-80269f413bca",
   "metadata": {},
   "outputs": [
    {
     "data": {
      "text/plain": [
       "array(['Benign'], dtype=object)"
      ]
     },
     "execution_count": 28,
     "metadata": {},
     "output_type": "execute_result"
    }
   ],
   "source": [
    "classifier2.predict([[13.45, 86.6, 555.1, 0.1022, 0.08165, 0.03974, 0.1638]])"
   ]
  },
  {
   "cell_type": "markdown",
   "id": "ca6a19f0-d73a-4352-98bd-f89499182c44",
   "metadata": {},
   "source": [
    "<details>\n",
    "    <summary>Click here for a Hint</summary>\n",
    "    \n",
    "use the predict() method\n",
    "</details>\n"
   ]
  },
  {
   "cell_type": "markdown",
   "id": "a9579e7f-3dd9-465c-a4c0-993ca22087d3",
   "metadata": {},
   "source": [
    "<details>\n",
    "    <summary>Click here for Solution</summary>\n",
    "\n",
    "```python\n",
    "classifier2.predict([[13.45,86.6,555.1,0.1022,0.08165,0.03974,0.1638]])\n",
    "\n",
    "```\n",
    "\n",
    "</details>\n"
   ]
  },
  {
   "cell_type": "markdown",
   "id": "8491479f-fd85-4319-816e-1da8d98a5e3e",
   "metadata": {},
   "source": [
    "Congratulations you have completed this lab.<br>\n"
   ]
  },
  {
   "cell_type": "markdown",
   "id": "6c2b18d3-6178-434f-84da-8ab1c9ddef54",
   "metadata": {},
   "source": [
    "## Authors\n"
   ]
  },
  {
   "cell_type": "markdown",
   "id": "91a3c164-f9ac-4472-91f1-29b7265d75d2",
   "metadata": {},
   "source": [
    "[Ramesh Sannareddy](https://www.linkedin.com/in/rsannareddy/?utm_medium=Exinfluencer&utm_source=Exinfluencer&utm_content=000026UJ&utm_term=10006555&utm_id=NA-SkillsNetwork-Channel-SkillsNetworkCoursesIBMBD0231ENSkillsNetwork866-2023-01-01)\n"
   ]
  },
  {
   "cell_type": "markdown",
   "id": "34f18045-8a70-445c-9e93-ac4664fdd4ab",
   "metadata": {},
   "source": [
    "## Contributors\n",
    "[Vicky Kuo](https://author.skills.network/instructors/vicky_kuo?utm_medium=Exinfluencer&utm_source=Exinfluencer&utm_content=000026UJ&utm_term=10006555&utm_id=NA-SkillsNetwork-Channel-SkillsNetworkCoursesIBMBD0231ENSkillsNetwork866-2023-01-01)\n"
   ]
  },
  {
   "cell_type": "markdown",
   "id": "d5b05af4-5727-464e-94b2-1b3121782a92",
   "metadata": {},
   "source": [
    "## Change Log\n"
   ]
  },
  {
   "cell_type": "markdown",
   "id": "972d2418-a2ce-4a27-a9a2-8db1ec6d4e30",
   "metadata": {},
   "source": [
    "|Date (YYYY-MM-DD)|Version|Changed By|Change Description|\n",
    "|-|-|-|-|\n",
    "|2023-04-14|0.1|Ramesh Sannareddy|Initial Version Created|\n",
    "|2023-06-20|0.3|Vicky Kuo|Proofreading|\n"
   ]
  },
  {
   "cell_type": "markdown",
   "id": "1b5e9062-c00d-44ae-9b58-d3efc9bfbd2d",
   "metadata": {},
   "source": [
    "Copyright © 2023 IBM Corporation. All rights reserved.\n"
   ]
  }
 ],
 "metadata": {
  "kernelspec": {
   "display_name": "Python 3 (ipykernel)",
   "language": "python",
   "name": "python3"
  },
  "language_info": {
   "codemirror_mode": {
    "name": "ipython",
    "version": 3
   },
   "file_extension": ".py",
   "mimetype": "text/x-python",
   "name": "python",
   "nbconvert_exporter": "python",
   "pygments_lexer": "ipython3",
   "version": "3.9.18"
  }
 },
 "nbformat": 4,
 "nbformat_minor": 4
}
