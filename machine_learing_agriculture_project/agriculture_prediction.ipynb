{
 "cells": [
  {
   "cell_type": "code",
   "execution_count": 17,
   "id": "initial_id",
   "metadata": {
    "collapsed": true,
    "ExecuteTime": {
     "end_time": "2024-02-23T16:09:13.847569Z",
     "start_time": "2024-02-23T16:09:13.715982Z"
    }
   },
   "outputs": [],
   "source": [
    "import pandas as pd"
   ]
  },
  {
   "cell_type": "markdown",
   "source": [
    "<!DOCTYPE html>\n",
    "<html>\n",
    "<h1> \n",
    "    Conduct Data Checks\n",
    "</h1>\n",
    "<p>Read in <em>soil_measures.csv</em> as a pandas DataFrame and perform some data checks, such as determining the number of crops, checking for missing values, and verifying that the data in each potential feature column is numeric.</p>\n",
    "</html>"
   ],
   "metadata": {
    "collapsed": false
   },
   "id": "25a2a06174a6b67b"
  },
  {
   "cell_type": "code",
   "execution_count": 18,
   "outputs": [],
   "source": [
    "df = pd.read_csv('soil_measures.csv')"
   ],
   "metadata": {
    "collapsed": false,
    "ExecuteTime": {
     "end_time": "2024-02-23T16:09:14.013132300Z",
     "start_time": "2024-02-23T16:09:13.726044500Z"
    }
   },
   "id": "901f2ec613bedc1f"
  },
  {
   "cell_type": "code",
   "execution_count": 19,
   "outputs": [
    {
     "data": {
      "text/plain": "N       0\nP       0\nK       0\nph      0\ncrop    0\ndtype: int64"
     },
     "execution_count": 19,
     "metadata": {},
     "output_type": "execute_result"
    }
   ],
   "source": [
    "df.head()\n",
    "df.isna().sum()"
   ],
   "metadata": {
    "collapsed": false,
    "ExecuteTime": {
     "end_time": "2024-02-23T16:09:14.072289600Z",
     "start_time": "2024-02-23T16:09:13.911362100Z"
    }
   },
   "id": "3d6f6e320d2bc754"
  },
  {
   "cell_type": "code",
   "execution_count": 20,
   "outputs": [
    {
     "name": "stdout",
     "output_type": "stream",
     "text": [
      "2200\n"
     ]
    }
   ],
   "source": [
    "# Get total number of crops\n",
    "\n",
    "crop_num = df[\"crop\"].count()\n",
    "print(crop_num)"
   ],
   "metadata": {
    "collapsed": false,
    "ExecuteTime": {
     "end_time": "2024-02-23T16:09:14.146480600Z",
     "start_time": "2024-02-23T16:09:14.036695Z"
    }
   },
   "id": "40a4b63314abbf39"
  },
  {
   "cell_type": "code",
   "execution_count": 21,
   "outputs": [
    {
     "name": "stdout",
     "output_type": "stream",
     "text": [
      "N       0\n",
      "P       0\n",
      "K       0\n",
      "ph      0\n",
      "crop    0\n",
      "dtype: int64\n"
     ]
    }
   ],
   "source": [
    "# Check for missing values\n",
    "missing_values = df.isnull().sum()\n",
    "print(missing_values)"
   ],
   "metadata": {
    "collapsed": false,
    "ExecuteTime": {
     "end_time": "2024-02-23T16:09:14.276078900Z",
     "start_time": "2024-02-23T16:09:14.145987800Z"
    }
   },
   "id": "8279bdf51e78d04c"
  },
  {
   "cell_type": "code",
   "execution_count": 22,
   "outputs": [
    {
     "data": {
      "text/plain": "N         int64\nP         int64\nK         int64\nph      float64\ncrop     object\ndtype: object"
     },
     "execution_count": 22,
     "metadata": {},
     "output_type": "execute_result"
    }
   ],
   "source": [
    "# Check if data in each potential feature column is numeric\n",
    "df.dtypes"
   ],
   "metadata": {
    "collapsed": false,
    "ExecuteTime": {
     "end_time": "2024-02-23T16:09:14.395898800Z",
     "start_time": "2024-02-23T16:09:14.274073500Z"
    }
   },
   "id": "46ef9e959b39a643"
  },
  {
   "cell_type": "markdown",
   "source": [
    "<!DOCTYPE html>\n",
    "<html>\n",
    "<h1> \n",
    "    Handling Cartegories\n",
    "</h1>\n",
    "<p>Convert the <em>crop</em> column to a categorical data type and verify that the conversion was successful.</p>"
   ],
   "metadata": {
    "collapsed": false
   },
   "id": "8560ccc56953e2fa"
  },
  {
   "cell_type": "code",
   "execution_count": 23,
   "outputs": [
    {
     "data": {
      "text/plain": "N          int64\nP          int64\nK          int64\nph       float64\ncrop    category\ndtype: object"
     },
     "execution_count": 23,
     "metadata": {},
     "output_type": "execute_result"
    }
   ],
   "source": [
    "# Import dummies\n",
    "df['crop'] = df['crop'].astype('category')\n",
    "df.dtypes"
   ],
   "metadata": {
    "collapsed": false,
    "ExecuteTime": {
     "end_time": "2024-02-23T16:09:14.501100700Z",
     "start_time": "2024-02-23T16:09:14.390887600Z"
    }
   },
   "id": "b3909d0a59b1dc21"
  },
  {
   "cell_type": "markdown",
   "source": [
    "<!DOCTYPE html>\n",
    "<html>\n",
    "<h1> \n",
    "    Split our data into training and testing sets\n",
    "</h1>\n",
    "<p>Split the data into training and testing sets using a 80/20 split. Use the <em>random_state = 42</em> parameter to ensure reproducibility, with X as our features columns and y as our target column</p>"
   ],
   "metadata": {
    "collapsed": false
   },
   "id": "36c5dfd9ba0832cb"
  },
  {
   "cell_type": "code",
   "execution_count": 24,
   "outputs": [],
   "source": [
    "from sklearn.model_selection import train_test_split\n",
    "\n",
    "X = df.drop('crop', axis=1).values\n",
    "y = df['crop'].values\n",
    "\n",
    "X_train, X_test, y_train, y_test = train_test_split(X, y, test_size=0.2, random_state=42)"
   ],
   "metadata": {
    "collapsed": false,
    "ExecuteTime": {
     "end_time": "2024-02-23T16:09:14.618530500Z",
     "start_time": "2024-02-23T16:09:14.499096700Z"
    }
   },
   "id": "8d85447e65ff0734"
  },
  {
   "cell_type": "markdown",
   "source": [
    "<!DOCTYPE html>\n",
    "<html>\n",
    "<h1> \n",
    "    Predict the \"crop\" type using each feature individually\n",
    "</h1>\n",
    "<p> looping over all the features, and, for each feature, fit a Logistic Regression model and calculate f1_score(). When creating the model, set max_iter to 2000 so the model can converge, and pass an appropriate string value to the multi_class keyword argument. </p>\n",
    "  "
   ],
   "metadata": {
    "collapsed": false
   },
   "id": "a4625e89e5dc17f4"
  },
  {
   "cell_type": "code",
   "execution_count": 33,
   "outputs": [
    {
     "name": "stdout",
     "output_type": "stream",
     "text": [
      "Feature: N, f1_score: 0.10507916708090527\n",
      "Feature: P, f1_score: 0.22243217563095563\n",
      "Feature: K, f1_score: 0.0458225366614312\n"
     ]
    }
   ],
   "source": [
    "from sklearn.linear_model import LogisticRegression\n",
    "from sklearn.metrics import f1_score\n",
    "import warnings\n",
    "warnings.filterwarnings('ignore')\n",
    "# Get the feature names\n",
    "features = df.columns[:-1]\n",
    "\n",
    "# instantiate the model\n",
    "model = LogisticRegression(max_iter=2000, multi_class='multinomial')\n",
    "\n",
    "# Loop over all the features\n",
    "num_features = X_train.shape[1]\n",
    "for i in range(num_features):\n",
    "    model.fit(X_train[:, i].reshape(-1, 1), y_train)\n",
    "    score = f1_score(y_test, model.predict(X_test[:, i].reshape(-1, 1)), average=\"weighted\")\n",
    "    print(f'Feature: {features[i]}, f1_score: {score}')"
   ],
   "metadata": {
    "collapsed": false,
    "ExecuteTime": {
     "end_time": "2024-02-23T16:13:00.507094600Z",
     "start_time": "2024-02-23T16:12:50.979268200Z"
    }
   },
   "id": "eb4d206da10401c1"
  },
  {
   "cell_type": "markdown",
   "source": [
    "<!DOCTYPE html>\n",
    "<html>\n",
    "<h1> \n",
    "    Optimizing model performance\n",
    "</h1>\n",
    "<p> In order to avoid selecting two features that are highly correlated, perform a correlation analysis for each pair of features, enabling you to build a final model without the presence of multicollinearity </p>"
   ],
   "metadata": {
    "collapsed": false
   },
   "id": "345a4b51678e2ad"
  },
  {
   "cell_type": "code",
   "execution_count": 26,
   "outputs": [
    {
     "name": "stdout",
     "output_type": "stream",
     "text": [
      "           N         P         K        ph\n",
      "N   1.000000 -0.231460 -0.140512  0.096683\n",
      "P  -0.231460  1.000000  0.736232 -0.138019\n",
      "K  -0.140512  0.736232  1.000000 -0.169503\n",
      "ph  0.096683 -0.138019 -0.169503  1.000000\n"
     ]
    }
   ],
   "source": [
    "correlation = df.drop('crop', axis=1).corr()\n",
    "print(correlation)"
   ],
   "metadata": {
    "collapsed": false,
    "ExecuteTime": {
     "end_time": "2024-02-23T16:09:15.603657800Z",
     "start_time": "2024-02-23T16:09:15.548512800Z"
    }
   },
   "id": "990f59faf9f597c6"
  },
  {
   "cell_type": "code",
   "execution_count": 27,
   "outputs": [
    {
     "data": {
      "text/plain": "<Axes: >"
     },
     "execution_count": 27,
     "metadata": {},
     "output_type": "execute_result"
    },
    {
     "data": {
      "text/plain": "<Figure size 1000x1000 with 2 Axes>",
      "image/png": "[encoded data removed]"
     },
     "metadata": {},
     "output_type": "display_data"
    }
   ],
   "source": [
    "# plot correlation matrix\n",
    "import seaborn as sns\n",
    "import matplotlib.pyplot as plt\n",
    "\n",
    "plt.figure(figsize=(10, 10))\n",
    "sns.heatmap(correlation, annot=True, cmap='coolwarm')\n",
    "\n"
   ],
   "metadata": {
    "collapsed": false,
    "ExecuteTime": {
     "end_time": "2024-02-23T16:09:16.305794900Z",
     "start_time": "2024-02-23T16:09:15.565556Z"
    }
   },
   "id": "f4026db130853569"
  },
  {
   "cell_type": "code",
   "execution_count": 32,
   "outputs": [
    {
     "name": "stdout",
     "output_type": "stream",
     "text": [
      "F1 score: 0.5908387430767142\n"
     ]
    }
   ],
   "source": [
    "import warnings\n",
    "warnings.filterwarnings('ignore')\n",
    "X = df.drop(['crop', 'P'], axis=1).values\n",
    "\n",
    "X_train, X_test, y_train, y_test = train_test_split(X, y, test_size=0.2, random_state=42)\n",
    "\n",
    "log_reg = LogisticRegression(max_iter=2000, multi_class='multinomial')\n",
    "\n",
    "log_reg.fit(X_train, y_train)\n",
    "\n",
    "y_pred = log_reg.predict(X_test)\n",
    "\n",
    "model_performance = f1_score(y_test, y_pred, average='weighted')\n",
    "print(f'F1 score: {model_performance}')"
   ],
   "metadata": {
    "collapsed": false,
    "ExecuteTime": {
     "end_time": "2024-02-23T16:12:24.186053900Z",
     "start_time": "2024-02-23T16:12:17.945447200Z"
    }
   },
   "id": "ae400452cc37fb9c"
  },
  {
   "cell_type": "code",
   "execution_count": 28,
   "outputs": [],
   "source": [],
   "metadata": {
    "collapsed": false,
    "ExecuteTime": {
     "end_time": "2024-02-23T16:09:16.591755Z",
     "start_time": "2024-02-23T16:09:16.548943300Z"
    }
   },
   "id": "fc0a78723b66d9cb"
  },
  {
   "cell_type": "code",
   "execution_count": 28,
   "outputs": [],
   "source": [],
   "metadata": {
    "collapsed": false,
    "ExecuteTime": {
     "end_time": "2024-02-23T16:09:16.591755Z",
     "start_time": "2024-02-23T16:09:16.553954500Z"
    }
   },
   "id": "5485cfdd1d6c9094"
  }
 ],
 "metadata": {
  "kernelspec": {
   "display_name": "Python 3",
   "language": "python",
   "name": "python3"
  },
  "language_info": {
   "codemirror_mode": {
    "name": "ipython",
    "version": 2
   },
   "file_extension": ".py",
   "mimetype": "text/x-python",
   "name": "python",
   "nbconvert_exporter": "python",
   "pygments_lexer": "ipython2",
   "version": "2.7.6"
  }
 },
 "nbformat": 4,
 "nbformat_minor": 5
}
