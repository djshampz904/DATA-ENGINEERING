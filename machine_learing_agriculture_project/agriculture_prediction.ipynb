{
 "cells": [
  {
   "cell_type": "code",
   "execution_count": 2,
   "id": "initial_id",
   "metadata": {
    "collapsed": true,
    "ExecuteTime": {
     "end_time": "2024-02-20T15:40:42.937152600Z",
     "start_time": "2024-02-20T15:40:28.575296Z"
    }
   },
   "outputs": [],
   "source": [
    "import pandas as pd"
   ]
  },
  {
   "cell_type": "markdown",
   "source": [
    "<!DOCTYPE html>\n",
    "<html>\n",
    "<h1> \n",
    "    Conduct Data Checks\n",
    "</h1>\n",
    "<p>Read in <em>soil_measures.csv</em> as a pandas DataFrame and perform some data checks, such as determining the number of crops, checking for missing values, and verifying that the data in each potential feature column is numeric.</p>\n",
    "</html>"
   ],
   "metadata": {
    "collapsed": false
   },
   "id": "25a2a06174a6b67b"
  },
  {
   "cell_type": "code",
   "execution_count": 3,
   "outputs": [],
   "source": [
    "df = pd.read_csv('soil_measures.csv')"
   ],
   "metadata": {
    "collapsed": false,
    "ExecuteTime": {
     "end_time": "2024-02-20T15:40:43.488742400Z",
     "start_time": "2024-02-20T15:40:42.939115200Z"
    }
   },
   "id": "901f2ec613bedc1f"
  },
  {
   "cell_type": "code",
   "execution_count": 4,
   "outputs": [
    {
     "data": {
      "text/plain": "    N   P   K        ph  crop\n0  90  42  43  6.502985  rice\n1  85  58  41  7.038096  rice\n2  60  55  44  7.840207  rice\n3  74  35  40  6.980401  rice\n4  78  42  42  7.628473  rice",
      "text/html": "<div>\n<style scoped>\n    .dataframe tbody tr th:only-of-type {\n        vertical-align: middle;\n    }\n\n    .dataframe tbody tr th {\n        vertical-align: top;\n    }\n\n    .dataframe thead th {\n        text-align: right;\n    }\n</style>\n<table border=\"1\" class=\"dataframe\">\n  <thead>\n    <tr style=\"text-align: right;\">\n      <th></th>\n      <th>N</th>\n      <th>P</th>\n      <th>K</th>\n      <th>ph</th>\n      <th>crop</th>\n    </tr>\n  </thead>\n  <tbody>\n    <tr>\n      <th>0</th>\n      <td>90</td>\n      <td>42</td>\n      <td>43</td>\n      <td>6.502985</td>\n      <td>rice</td>\n    </tr>\n    <tr>\n      <th>1</th>\n      <td>85</td>\n      <td>58</td>\n      <td>41</td>\n      <td>7.038096</td>\n      <td>rice</td>\n    </tr>\n    <tr>\n      <th>2</th>\n      <td>60</td>\n      <td>55</td>\n      <td>44</td>\n      <td>7.840207</td>\n      <td>rice</td>\n    </tr>\n    <tr>\n      <th>3</th>\n      <td>74</td>\n      <td>35</td>\n      <td>40</td>\n      <td>6.980401</td>\n      <td>rice</td>\n    </tr>\n    <tr>\n      <th>4</th>\n      <td>78</td>\n      <td>42</td>\n      <td>42</td>\n      <td>7.628473</td>\n      <td>rice</td>\n    </tr>\n  </tbody>\n</table>\n</div>"
     },
     "execution_count": 4,
     "metadata": {},
     "output_type": "execute_result"
    }
   ],
   "source": [
    "df.head()"
   ],
   "metadata": {
    "collapsed": false,
    "ExecuteTime": {
     "end_time": "2024-02-20T15:40:44.163742100Z",
     "start_time": "2024-02-20T15:40:43.492668100Z"
    }
   },
   "id": "3d6f6e320d2bc754"
  },
  {
   "cell_type": "code",
   "execution_count": 9,
   "outputs": [
    {
     "name": "stdout",
     "output_type": "stream",
     "text": [
      "2200\n"
     ]
    }
   ],
   "source": [
    "# Get total number of crops\n",
    "\n",
    "crop_num = df[\"crop\"].count()\n",
    "print(crop_num)"
   ],
   "metadata": {
    "collapsed": false,
    "ExecuteTime": {
     "end_time": "2024-02-20T15:46:37.988572800Z",
     "start_time": "2024-02-20T15:46:37.813895800Z"
    }
   },
   "id": "40a4b63314abbf39"
  },
  {
   "cell_type": "code",
   "execution_count": 11,
   "outputs": [
    {
     "name": "stdout",
     "output_type": "stream",
     "text": [
      "N       0\n",
      "P       0\n",
      "K       0\n",
      "ph      0\n",
      "crop    0\n",
      "dtype: int64\n"
     ]
    }
   ],
   "source": [
    "# Check for missing values\n",
    "missing_values = df.isnull().sum()\n",
    "print(missing_values)"
   ],
   "metadata": {
    "collapsed": false,
    "ExecuteTime": {
     "end_time": "2024-02-20T15:48:44.622856100Z",
     "start_time": "2024-02-20T15:48:44.478600900Z"
    }
   },
   "id": "8279bdf51e78d04c"
  },
  {
   "cell_type": "code",
   "execution_count": 15,
   "outputs": [
    {
     "data": {
      "text/plain": "N         int64\nP         int64\nK         int64\nph      float64\ncrop     object\ndtype: object"
     },
     "execution_count": 15,
     "metadata": {},
     "output_type": "execute_result"
    }
   ],
   "source": [
    "# Check if data in each potential feature column is numeric\n",
    "df.dtypes"
   ],
   "metadata": {
    "collapsed": false,
    "ExecuteTime": {
     "end_time": "2024-02-20T15:59:42.143252300Z",
     "start_time": "2024-02-20T15:59:42.115776600Z"
    }
   },
   "id": "46ef9e959b39a643"
  },
  {
   "cell_type": "markdown",
   "source": [
    "<!DOCTYPE html>\n",
    "<html>\n",
    "<h1> \n",
    "    Handling Cartegories\n",
    "</h1>\n",
    "<p>Convert the <em>crop</em> column to a categorical data type and verify that the conversion was successful.</p>"
   ],
   "metadata": {
    "collapsed": false
   },
   "id": "8560ccc56953e2fa"
  },
  {
   "cell_type": "code",
   "execution_count": 20,
   "outputs": [
    {
     "data": {
      "text/plain": "N          int64\nP          int64\nK          int64\nph       float64\ncrop    category\ndtype: object"
     },
     "execution_count": 20,
     "metadata": {},
     "output_type": "execute_result"
    }
   ],
   "source": [
    "# Import dummies\n",
    "df['crop'] = df['crop'].astype('category')\n",
    "df.dtypes"
   ],
   "metadata": {
    "collapsed": false,
    "ExecuteTime": {
     "end_time": "2024-02-20T16:08:44.219071800Z",
     "start_time": "2024-02-20T16:08:44.086588800Z"
    }
   },
   "id": "b3909d0a59b1dc21"
  },
  {
   "cell_type": "markdown",
   "source": [
    "<!DOCTYPE html>\n",
    "<html>\n",
    "<h1> \n",
    "    Split our data into training and testing sets\n",
    "</h1>\n",
    "<p>Split the data into training and testing sets using a 80/20 split. Use the <em>random_state = 42</em> parameter to ensure reproducibility, with X as our features columns and y as our target column</p>"
   ],
   "metadata": {
    "collapsed": false
   },
   "id": "36c5dfd9ba0832cb"
  },
  {
   "cell_type": "code",
   "execution_count": 22,
   "outputs": [],
   "source": [
    "from sklearn.model_selection import train_test_split\n",
    "\n",
    "X = df.drop('crop', axis=1).values\n",
    "y = df['crop'].values\n",
    "\n",
    "X_train, X_test, y_train, y_test = train_test_split(X, y, test_size=0.2, random_state=42)"
   ],
   "metadata": {
    "collapsed": false,
    "ExecuteTime": {
     "end_time": "2024-02-20T16:24:19.370316700Z",
     "start_time": "2024-02-20T16:24:19.300494400Z"
    }
   },
   "id": "8d85447e65ff0734"
  },
  {
   "cell_type": "markdown",
   "source": [
    "<!DOCTYPE html>\n",
    "<html>\n",
    "<h1> \n",
    "    Predict the \"crop\" type using each feature individually\n",
    "</h1>\n",
    "<p> looping over all the features, and, for each feature, fit a Logistic Regression model and calculate f1_score(). When creating the model, set max_iter to 2000 so the model can converge, and pass an appropriate string value to the multi_class keyword argument. </p>\n",
    "  "
   ],
   "metadata": {
    "collapsed": false
   },
   "id": "a4625e89e5dc17f4"
  },
  {
   "cell_type": "code",
   "execution_count": 36,
   "outputs": [
    {
     "name": "stdout",
     "output_type": "stream",
     "text": [
      "(1760, 4)\n"
     ]
    }
   ],
   "source": [
    "from sklearn.linear_model import LogisticRegression\n",
    "\n",
    "print(X_train.shape)\n",
    "for feature in X_train.shape[1]:\n",
    "    "
   ],
   "metadata": {
    "collapsed": false,
    "ExecuteTime": {
     "end_time": "2024-02-20T16:52:05.725663200Z",
     "start_time": "2024-02-20T16:52:05.688372900Z"
    }
   },
   "id": "eb4d206da10401c1"
  },
  {
   "cell_type": "code",
   "execution_count": null,
   "outputs": [],
   "source": [],
   "metadata": {
    "collapsed": false
   },
   "id": "42a8c7e9d53d0ff8"
  }
 ],
 "metadata": {
  "kernelspec": {
   "display_name": "Python 3",
   "language": "python",
   "name": "python3"
  },
  "language_info": {
   "codemirror_mode": {
    "name": "ipython",
    "version": 2
   },
   "file_extension": ".py",
   "mimetype": "text/x-python",
   "name": "python",
   "nbconvert_exporter": "python",
   "pygments_lexer": "ipython2",
   "version": "2.7.6"
  }
 },
 "nbformat": 4,
 "nbformat_minor": 5
}
